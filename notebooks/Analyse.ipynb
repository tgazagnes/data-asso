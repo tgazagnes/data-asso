{
 "cells": [
  {
   "cell_type": "code",
   "execution_count": 1,
   "metadata": {},
   "outputs": [],
   "source": [
    "import pandas as pd\n",
    "import plotly.express as px\n",
    "import os\n",
    "import unicodedata"
   ]
  },
  {
   "cell_type": "code",
   "execution_count": 3,
   "metadata": {},
   "outputs": [],
   "source": [
    "PATH = \"C:/Users/thiba/Documents/Projets data/Analyses_diverses/202404_Datasubv\""
   ]
  },
  {
   "cell_type": "code",
   "execution_count": 94,
   "metadata": {},
   "outputs": [
    {
     "data": {
      "text/html": [
       "<div>\n",
       "<style scoped>\n",
       "    .dataframe tbody tr th:only-of-type {\n",
       "        vertical-align: middle;\n",
       "    }\n",
       "\n",
       "    .dataframe tbody tr th {\n",
       "        vertical-align: top;\n",
       "    }\n",
       "\n",
       "    .dataframe thead th {\n",
       "        text-align: right;\n",
       "    }\n",
       "</style>\n",
       "<table border=\"1\" class=\"dataframe\">\n",
       "  <thead>\n",
       "    <tr style=\"text-align: right;\">\n",
       "      <th></th>\n",
       "      <th>Programme</th>\n",
       "      <th>SIREN</th>\n",
       "      <th>NIC</th>\n",
       "      <th>Dénomination</th>\n",
       "      <th>Montant</th>\n",
       "      <th>Objet 2022</th>\n",
       "      <th>Convention 2022</th>\n",
       "      <th>Date de création de l'établissement</th>\n",
       "      <th>Etat administratif</th>\n",
       "      <th>Siège</th>\n",
       "      <th>Répertoire national des associations</th>\n",
       "      <th>Catégorie juridique</th>\n",
       "      <th>COG : code</th>\n",
       "      <th>COG : libellé</th>\n",
       "      <th>Activité</th>\n",
       "      <th>Nomenclature de l'activité</th>\n",
       "      <th>Economie sociale et solidaire</th>\n",
       "    </tr>\n",
       "  </thead>\n",
       "  <tbody>\n",
       "    <tr>\n",
       "      <th>0</th>\n",
       "      <td>NaN</td>\n",
       "      <td>NaN</td>\n",
       "      <td>NaN</td>\n",
       "      <td>NaN</td>\n",
       "      <td>NaN</td>\n",
       "      <td>NaN</td>\n",
       "      <td>NaN</td>\n",
       "      <td>NaN</td>\n",
       "      <td>NaN</td>\n",
       "      <td>NaN</td>\n",
       "      <td>NaN</td>\n",
       "      <td>NaN</td>\n",
       "      <td>NaN</td>\n",
       "      <td>NaN</td>\n",
       "      <td>NaN</td>\n",
       "      <td>NaN</td>\n",
       "      <td>NaN</td>\n",
       "    </tr>\n",
       "    <tr>\n",
       "      <th>1</th>\n",
       "      <td>101.0</td>\n",
       "      <td>301294831.0</td>\n",
       "      <td>88.0</td>\n",
       "      <td>APSIS EMERGENCE</td>\n",
       "      <td>1750.0</td>\n",
       "      <td>Rétributions pour une intervention au titre de...</td>\n",
       "      <td>NaN</td>\n",
       "      <td>2010-06-22 00:00:00</td>\n",
       "      <td>Actif</td>\n",
       "      <td>Non</td>\n",
       "      <td>NaN</td>\n",
       "      <td>9220.0</td>\n",
       "      <td>57672</td>\n",
       "      <td>Thionville</td>\n",
       "      <td>88.99A</td>\n",
       "      <td>NAFRev2</td>\n",
       "      <td>N</td>\n",
       "    </tr>\n",
       "    <tr>\n",
       "      <th>2</th>\n",
       "      <td>101.0</td>\n",
       "      <td>301294831.0</td>\n",
       "      <td>88.0</td>\n",
       "      <td>APSIS EMERGENCE</td>\n",
       "      <td>37800.0</td>\n",
       "      <td>Prestations de médiation familiale et gestion ...</td>\n",
       "      <td>NaN</td>\n",
       "      <td>2010-06-22 00:00:00</td>\n",
       "      <td>Actif</td>\n",
       "      <td>Non</td>\n",
       "      <td>NaN</td>\n",
       "      <td>9220.0</td>\n",
       "      <td>57672</td>\n",
       "      <td>Thionville</td>\n",
       "      <td>88.99A</td>\n",
       "      <td>NAFRev2</td>\n",
       "      <td>N</td>\n",
       "    </tr>\n",
       "    <tr>\n",
       "      <th>3</th>\n",
       "      <td>101.0</td>\n",
       "      <td>301295234.0</td>\n",
       "      <td>50.0</td>\n",
       "      <td>FAMILLES EN GIRONDE</td>\n",
       "      <td>4608.0</td>\n",
       "      <td>Rétributions pour une intervention au titre de...</td>\n",
       "      <td>NaN</td>\n",
       "      <td>2002-03-01 00:00:00</td>\n",
       "      <td>Actif</td>\n",
       "      <td>Oui</td>\n",
       "      <td>W332014198</td>\n",
       "      <td>9220.0</td>\n",
       "      <td>33063</td>\n",
       "      <td>Bordeaux</td>\n",
       "      <td>88.99B</td>\n",
       "      <td>NAFRev2</td>\n",
       "      <td>O</td>\n",
       "    </tr>\n",
       "    <tr>\n",
       "      <th>4</th>\n",
       "      <td>101.0</td>\n",
       "      <td>301295234.0</td>\n",
       "      <td>50.0</td>\n",
       "      <td>FAMILLES EN GIRONDE</td>\n",
       "      <td>39000.0</td>\n",
       "      <td>Prestations de médiation familiale</td>\n",
       "      <td>NaN</td>\n",
       "      <td>2002-03-01 00:00:00</td>\n",
       "      <td>Actif</td>\n",
       "      <td>Oui</td>\n",
       "      <td>W332014198</td>\n",
       "      <td>9220.0</td>\n",
       "      <td>33063</td>\n",
       "      <td>Bordeaux</td>\n",
       "      <td>88.99B</td>\n",
       "      <td>NAFRev2</td>\n",
       "      <td>O</td>\n",
       "    </tr>\n",
       "  </tbody>\n",
       "</table>\n",
       "</div>"
      ],
      "text/plain": [
       "   Programme        SIREN   NIC         Dénomination  Montant  \\\n",
       "0        NaN          NaN   NaN                  NaN      NaN   \n",
       "1      101.0  301294831.0  88.0      APSIS EMERGENCE   1750.0   \n",
       "2      101.0  301294831.0  88.0      APSIS EMERGENCE  37800.0   \n",
       "3      101.0  301295234.0  50.0  FAMILLES EN GIRONDE   4608.0   \n",
       "4      101.0  301295234.0  50.0  FAMILLES EN GIRONDE  39000.0   \n",
       "\n",
       "                                          Objet 2022 Convention 2022  \\\n",
       "0                                                NaN             NaN   \n",
       "1  Rétributions pour une intervention au titre de...             NaN   \n",
       "2  Prestations de médiation familiale et gestion ...             NaN   \n",
       "3  Rétributions pour une intervention au titre de...             NaN   \n",
       "4                 Prestations de médiation familiale             NaN   \n",
       "\n",
       "  Date de création de l'établissement Etat administratif Siège  \\\n",
       "0                                 NaN                NaN   NaN   \n",
       "1                 2010-06-22 00:00:00              Actif   Non   \n",
       "2                 2010-06-22 00:00:00              Actif   Non   \n",
       "3                 2002-03-01 00:00:00              Actif   Oui   \n",
       "4                 2002-03-01 00:00:00              Actif   Oui   \n",
       "\n",
       "  Répertoire national des associations  Catégorie juridique COG : code  \\\n",
       "0                                  NaN                  NaN        NaN   \n",
       "1                                  NaN               9220.0      57672   \n",
       "2                                  NaN               9220.0      57672   \n",
       "3                           W332014198               9220.0      33063   \n",
       "4                           W332014198               9220.0      33063   \n",
       "\n",
       "  COG : libellé Activité Nomenclature de l'activité  \\\n",
       "0           NaN      NaN                        NaN   \n",
       "1    Thionville   88.99A                    NAFRev2   \n",
       "2    Thionville   88.99A                    NAFRev2   \n",
       "3      Bordeaux   88.99B                    NAFRev2   \n",
       "4      Bordeaux   88.99B                    NAFRev2   \n",
       "\n",
       "  Economie sociale et solidaire  \n",
       "0                           NaN  \n",
       "1                             N  \n",
       "2                             N  \n",
       "3                             O  \n",
       "4                             O  "
      ]
     },
     "execution_count": 94,
     "metadata": {},
     "output_type": "execute_result"
    }
   ],
   "source": [
    "#Import\n",
    "df_etat = pd.read_excel(os.path.join(PATH, \"data\", \"Jaune2024_Liste_des_credits_attribues_au_monde_associatif_0.xlsx\"), header = 2)\n",
    "df_etat.head()"
   ]
  },
  {
   "cell_type": "code",
   "execution_count": 95,
   "metadata": {},
   "outputs": [
    {
     "data": {
      "text/html": [
       "<div>\n",
       "<style scoped>\n",
       "    .dataframe tbody tr th:only-of-type {\n",
       "        vertical-align: middle;\n",
       "    }\n",
       "\n",
       "    .dataframe tbody tr th {\n",
       "        vertical-align: top;\n",
       "    }\n",
       "\n",
       "    .dataframe thead th {\n",
       "        text-align: right;\n",
       "    }\n",
       "</style>\n",
       "<table border=\"1\" class=\"dataframe\">\n",
       "  <thead>\n",
       "    <tr style=\"text-align: right;\">\n",
       "      <th></th>\n",
       "      <th>Programme</th>\n",
       "      <th>SIREN</th>\n",
       "      <th>NIC</th>\n",
       "      <th>Dénomination</th>\n",
       "      <th>Montant</th>\n",
       "      <th>Objet 2022</th>\n",
       "      <th>Convention 2022</th>\n",
       "      <th>Date de création de l'établissement</th>\n",
       "      <th>Etat administratif</th>\n",
       "      <th>Siège</th>\n",
       "      <th>Répertoire national des associations</th>\n",
       "      <th>Catégorie juridique</th>\n",
       "      <th>COG : code</th>\n",
       "      <th>COG : libellé</th>\n",
       "      <th>Activité</th>\n",
       "      <th>Nomenclature de l'activité</th>\n",
       "      <th>Economie sociale et solidaire</th>\n",
       "    </tr>\n",
       "  </thead>\n",
       "  <tbody>\n",
       "    <tr>\n",
       "      <th>1</th>\n",
       "      <td>101.0</td>\n",
       "      <td>301294831.0</td>\n",
       "      <td>88.0</td>\n",
       "      <td>APSIS EMERGENCE</td>\n",
       "      <td>1750.0</td>\n",
       "      <td>Rétributions pour une intervention au titre de...</td>\n",
       "      <td>NaN</td>\n",
       "      <td>2010-06-22 00:00:00</td>\n",
       "      <td>Actif</td>\n",
       "      <td>Non</td>\n",
       "      <td>NaN</td>\n",
       "      <td>9220.0</td>\n",
       "      <td>57672</td>\n",
       "      <td>Thionville</td>\n",
       "      <td>88.99A</td>\n",
       "      <td>NAFRev2</td>\n",
       "      <td>N</td>\n",
       "    </tr>\n",
       "    <tr>\n",
       "      <th>2</th>\n",
       "      <td>101.0</td>\n",
       "      <td>301294831.0</td>\n",
       "      <td>88.0</td>\n",
       "      <td>APSIS EMERGENCE</td>\n",
       "      <td>37800.0</td>\n",
       "      <td>Prestations de médiation familiale et gestion ...</td>\n",
       "      <td>NaN</td>\n",
       "      <td>2010-06-22 00:00:00</td>\n",
       "      <td>Actif</td>\n",
       "      <td>Non</td>\n",
       "      <td>NaN</td>\n",
       "      <td>9220.0</td>\n",
       "      <td>57672</td>\n",
       "      <td>Thionville</td>\n",
       "      <td>88.99A</td>\n",
       "      <td>NAFRev2</td>\n",
       "      <td>N</td>\n",
       "    </tr>\n",
       "    <tr>\n",
       "      <th>3</th>\n",
       "      <td>101.0</td>\n",
       "      <td>301295234.0</td>\n",
       "      <td>50.0</td>\n",
       "      <td>FAMILLES EN GIRONDE</td>\n",
       "      <td>4608.0</td>\n",
       "      <td>Rétributions pour une intervention au titre de...</td>\n",
       "      <td>NaN</td>\n",
       "      <td>2002-03-01 00:00:00</td>\n",
       "      <td>Actif</td>\n",
       "      <td>Oui</td>\n",
       "      <td>W332014198</td>\n",
       "      <td>9220.0</td>\n",
       "      <td>33063</td>\n",
       "      <td>Bordeaux</td>\n",
       "      <td>88.99B</td>\n",
       "      <td>NAFRev2</td>\n",
       "      <td>O</td>\n",
       "    </tr>\n",
       "    <tr>\n",
       "      <th>4</th>\n",
       "      <td>101.0</td>\n",
       "      <td>301295234.0</td>\n",
       "      <td>50.0</td>\n",
       "      <td>FAMILLES EN GIRONDE</td>\n",
       "      <td>39000.0</td>\n",
       "      <td>Prestations de médiation familiale</td>\n",
       "      <td>NaN</td>\n",
       "      <td>2002-03-01 00:00:00</td>\n",
       "      <td>Actif</td>\n",
       "      <td>Oui</td>\n",
       "      <td>W332014198</td>\n",
       "      <td>9220.0</td>\n",
       "      <td>33063</td>\n",
       "      <td>Bordeaux</td>\n",
       "      <td>88.99B</td>\n",
       "      <td>NAFRev2</td>\n",
       "      <td>O</td>\n",
       "    </tr>\n",
       "    <tr>\n",
       "      <th>5</th>\n",
       "      <td>101.0</td>\n",
       "      <td>301295234.0</td>\n",
       "      <td>50.0</td>\n",
       "      <td>FAMILLES EN GIRONDE</td>\n",
       "      <td>256.0</td>\n",
       "      <td>Rétributions pour une intervention au titre de...</td>\n",
       "      <td>NaN</td>\n",
       "      <td>2002-03-01 00:00:00</td>\n",
       "      <td>Actif</td>\n",
       "      <td>Oui</td>\n",
       "      <td>W332014198</td>\n",
       "      <td>9220.0</td>\n",
       "      <td>33063</td>\n",
       "      <td>Bordeaux</td>\n",
       "      <td>88.99B</td>\n",
       "      <td>NAFRev2</td>\n",
       "      <td>O</td>\n",
       "    </tr>\n",
       "  </tbody>\n",
       "</table>\n",
       "</div>"
      ],
      "text/plain": [
       "   Programme        SIREN   NIC         Dénomination  Montant  \\\n",
       "1      101.0  301294831.0  88.0      APSIS EMERGENCE   1750.0   \n",
       "2      101.0  301294831.0  88.0      APSIS EMERGENCE  37800.0   \n",
       "3      101.0  301295234.0  50.0  FAMILLES EN GIRONDE   4608.0   \n",
       "4      101.0  301295234.0  50.0  FAMILLES EN GIRONDE  39000.0   \n",
       "5      101.0  301295234.0  50.0  FAMILLES EN GIRONDE    256.0   \n",
       "\n",
       "                                          Objet 2022 Convention 2022  \\\n",
       "1  Rétributions pour une intervention au titre de...             NaN   \n",
       "2  Prestations de médiation familiale et gestion ...             NaN   \n",
       "3  Rétributions pour une intervention au titre de...             NaN   \n",
       "4                 Prestations de médiation familiale             NaN   \n",
       "5  Rétributions pour une intervention au titre de...             NaN   \n",
       "\n",
       "  Date de création de l'établissement Etat administratif Siège  \\\n",
       "1                 2010-06-22 00:00:00              Actif   Non   \n",
       "2                 2010-06-22 00:00:00              Actif   Non   \n",
       "3                 2002-03-01 00:00:00              Actif   Oui   \n",
       "4                 2002-03-01 00:00:00              Actif   Oui   \n",
       "5                 2002-03-01 00:00:00              Actif   Oui   \n",
       "\n",
       "  Répertoire national des associations  Catégorie juridique COG : code  \\\n",
       "1                                  NaN               9220.0      57672   \n",
       "2                                  NaN               9220.0      57672   \n",
       "3                           W332014198               9220.0      33063   \n",
       "4                           W332014198               9220.0      33063   \n",
       "5                           W332014198               9220.0      33063   \n",
       "\n",
       "  COG : libellé Activité Nomenclature de l'activité  \\\n",
       "1    Thionville   88.99A                    NAFRev2   \n",
       "2    Thionville   88.99A                    NAFRev2   \n",
       "3      Bordeaux   88.99B                    NAFRev2   \n",
       "4      Bordeaux   88.99B                    NAFRev2   \n",
       "5      Bordeaux   88.99B                    NAFRev2   \n",
       "\n",
       "  Economie sociale et solidaire  \n",
       "1                             N  \n",
       "2                             N  \n",
       "3                             O  \n",
       "4                             O  \n",
       "5                             O  "
      ]
     },
     "execution_count": 95,
     "metadata": {},
     "output_type": "execute_result"
    }
   ],
   "source": [
    "df_etat.drop(0, axis = 0, inplace = True)\n",
    "df_etat.head()"
   ]
  },
  {
   "cell_type": "code",
   "execution_count": 8,
   "metadata": {},
   "outputs": [
    {
     "name": "stdout",
     "output_type": "stream",
     "text": [
      "<class 'pandas.core.frame.DataFrame'>\n",
      "RangeIndex: 109503 entries, 1 to 109503\n",
      "Data columns (total 17 columns):\n",
      " #   Column                                Non-Null Count   Dtype  \n",
      "---  ------                                --------------   -----  \n",
      " 0   Programme                             109503 non-null  float64\n",
      " 1   SIREN                                 108894 non-null  float64\n",
      " 2   NIC                                   108894 non-null  float64\n",
      " 3   Dénomination                          109503 non-null  object \n",
      " 4   Montant                               109503 non-null  float64\n",
      " 5   Objet 2022                            109484 non-null  object \n",
      " 6   Convention 2022                       3049 non-null    object \n",
      " 7   Date de création de l'établissement   109503 non-null  object \n",
      " 8   Etat administratif                    109503 non-null  object \n",
      " 9   Siège                                 109503 non-null  object \n",
      " 10  Répertoire national des associations  97725 non-null   object \n",
      " 11  Catégorie juridique                   109503 non-null  float64\n",
      " 12  COG : code                            109503 non-null  object \n",
      " 13  COG : libellé                         109503 non-null  object \n",
      " 14  Activité                              109503 non-null  object \n",
      " 15  Nomenclature de l'activité            109503 non-null  object \n",
      " 16  Economie sociale et solidaire         108722 non-null  object \n",
      "dtypes: float64(5), object(12)\n",
      "memory usage: 14.2+ MB\n"
     ]
    }
   ],
   "source": [
    "df_etat.info()"
   ]
  },
  {
   "cell_type": "code",
   "execution_count": 96,
   "metadata": {},
   "outputs": [
    {
     "name": "stdout",
     "output_type": "stream",
     "text": [
      "<class 'pandas.core.frame.DataFrame'>\n",
      "Int64Index: 13783 entries, 0 to 10069\n",
      "Data columns (total 20 columns):\n",
      " #   Column                 Non-Null Count  Dtype  \n",
      "---  ------                 --------------  -----  \n",
      " 0   nomattribuant          13783 non-null  object \n",
      " 1   idattribuant           13783 non-null  int64  \n",
      " 2   annee                  13783 non-null  int64  \n",
      " 3   dateconvention         1309 non-null   object \n",
      " 4   referencedecision      6907 non-null   object \n",
      " 5   nombeneficiaire        13783 non-null  object \n",
      " 6   idbeneficiaire         11605 non-null  float64\n",
      " 7   rnabeneficiaire        0 non-null      float64\n",
      " 8   objet                  12694 non-null  object \n",
      " 9   montant                13783 non-null  object \n",
      " 10  nature                 13783 non-null  object \n",
      " 11  conditionsversement    12694 non-null  object \n",
      " 12  datesperiodeversement  12694 non-null  object \n",
      " 13  idrae                  13 non-null     object \n",
      " 14  notificationue         12694 non-null  object \n",
      " 15  pourcentagesubvention  12694 non-null  object \n",
      " 16  dispositifaide         0 non-null      float64\n",
      " 17  gid                    13783 non-null  int64  \n",
      " 18  categorietiers         9747 non-null   object \n",
      " 19  naturecomptable        7274 non-null   object \n",
      "dtypes: float64(3), int64(3), object(14)\n",
      "memory usage: 2.2+ MB\n"
     ]
    }
   ],
   "source": [
    "df_mdl = pd.read_csv(os.path.join(PATH, \"data\", \"eco_economie.subvention.csv\"), header = 0, sep=';', encoding='utf-8')\n",
    "\n",
    "#Garder uniquement le budget prinipcale\n",
    "df_mdl = df_mdl.loc[df_mdl[\"nomattribuant\"] ==\"Métropole de Lyon (Budget principal)\"]\n",
    "\n",
    "df_vdl = pd.read_csv(os.path.join(PATH, \"data\", \"lyon.subvention.csv\"), header = 0, sep=';', encoding='utf-8')              \n",
    "df_lyon = pd.concat([df_mdl, df_vdl], axis = 0)\n",
    "df_lyon.info()"
   ]
  },
  {
   "cell_type": "code",
   "execution_count": 63,
   "metadata": {},
   "outputs": [
    {
     "name": "stdout",
     "output_type": "stream",
     "text": [
      "539605846.65\n",
      "202050635.99\n",
      "337555210.66\n"
     ]
    }
   ],
   "source": [
    "print(df_lyon[\"montant\"].str.replace(\",\",\".\").astype('float').sum())\n",
    "print(df_mdl[\"montant\"].str.replace(\",\",\".\").astype('float').sum())\n",
    "print(df_vdl[\"montant\"].str.replace(\",\",\".\").astype('float').sum())\n"
   ]
  },
  {
   "cell_type": "code",
   "execution_count": null,
   "metadata": {},
   "outputs": [],
   "source": []
  },
  {
   "cell_type": "code",
   "execution_count": 64,
   "metadata": {},
   "outputs": [
    {
     "data": {
      "text/html": [
       "<div>\n",
       "<style scoped>\n",
       "    .dataframe tbody tr th:only-of-type {\n",
       "        vertical-align: middle;\n",
       "    }\n",
       "\n",
       "    .dataframe tbody tr th {\n",
       "        vertical-align: top;\n",
       "    }\n",
       "\n",
       "    .dataframe thead th {\n",
       "        text-align: right;\n",
       "    }\n",
       "</style>\n",
       "<table border=\"1\" class=\"dataframe\">\n",
       "  <thead>\n",
       "    <tr style=\"text-align: right;\">\n",
       "      <th></th>\n",
       "      <th>nomattribuant</th>\n",
       "      <th>idattribuant</th>\n",
       "      <th>annee</th>\n",
       "      <th>dateconvention</th>\n",
       "      <th>referencedecision</th>\n",
       "      <th>nombeneficiaire</th>\n",
       "      <th>idbeneficiaire</th>\n",
       "      <th>rnabeneficiaire</th>\n",
       "      <th>objet</th>\n",
       "      <th>montant</th>\n",
       "      <th>nature</th>\n",
       "      <th>conditionsversement</th>\n",
       "      <th>datesperiodeversement</th>\n",
       "      <th>idrae</th>\n",
       "      <th>notificationue</th>\n",
       "      <th>pourcentagesubvention</th>\n",
       "      <th>dispositifaide</th>\n",
       "      <th>gid</th>\n",
       "      <th>categorietiers</th>\n",
       "      <th>naturecomptable</th>\n",
       "    </tr>\n",
       "  </thead>\n",
       "  <tbody>\n",
       "    <tr>\n",
       "      <th>0</th>\n",
       "      <td>Métropole de Lyon (Budget principal)</td>\n",
       "      <td>20004697700019</td>\n",
       "      <td>2021</td>\n",
       "      <td>NaN</td>\n",
       "      <td>NaN</td>\n",
       "      <td>45 MARYSE BASTIE</td>\n",
       "      <td>NaN</td>\n",
       "      <td>NaN</td>\n",
       "      <td>ECO-LY0N8-45 RUE MARYSE BASTIE-AIDE EV06938815...</td>\n",
       "      <td>235200,0</td>\n",
       "      <td>aide en numéraire</td>\n",
       "      <td>unique</td>\n",
       "      <td>2021-09-10</td>\n",
       "      <td>NaN</td>\n",
       "      <td>False</td>\n",
       "      <td>1,0</td>\n",
       "      <td>NaN</td>\n",
       "      <td>9979</td>\n",
       "      <td>NaN</td>\n",
       "      <td>NaN</td>\n",
       "    </tr>\n",
       "    <tr>\n",
       "      <th>1</th>\n",
       "      <td>Métropole de Lyon (Budget principal)</td>\n",
       "      <td>20004697700019</td>\n",
       "      <td>2021</td>\n",
       "      <td>NaN</td>\n",
       "      <td>NaN</td>\n",
       "      <td>AGEA BELLEVUE</td>\n",
       "      <td>NaN</td>\n",
       "      <td>NaN</td>\n",
       "      <td>LA MULATIERE BELLEVUE _ Remplacement  de fenêt...</td>\n",
       "      <td>25847,7</td>\n",
       "      <td>aide en numéraire</td>\n",
       "      <td>unique</td>\n",
       "      <td>2021-03-25</td>\n",
       "      <td>NaN</td>\n",
       "      <td>False</td>\n",
       "      <td>1,0</td>\n",
       "      <td>NaN</td>\n",
       "      <td>9980</td>\n",
       "      <td>NaN</td>\n",
       "      <td>NaN</td>\n",
       "    </tr>\n",
       "    <tr>\n",
       "      <th>2</th>\n",
       "      <td>Métropole de Lyon (Budget principal)</td>\n",
       "      <td>20004697700019</td>\n",
       "      <td>2021</td>\n",
       "      <td>NaN</td>\n",
       "      <td>NaN</td>\n",
       "      <td>AGEA BELLEVUE</td>\n",
       "      <td>NaN</td>\n",
       "      <td>NaN</td>\n",
       "      <td>Loi Falloux 2019 - 1</td>\n",
       "      <td>47000,0</td>\n",
       "      <td>aide en numéraire</td>\n",
       "      <td>unique</td>\n",
       "      <td>2021-03-25</td>\n",
       "      <td>NaN</td>\n",
       "      <td>False</td>\n",
       "      <td>1,0</td>\n",
       "      <td>NaN</td>\n",
       "      <td>9981</td>\n",
       "      <td>NaN</td>\n",
       "      <td>NaN</td>\n",
       "    </tr>\n",
       "    <tr>\n",
       "      <th>3</th>\n",
       "      <td>Métropole de Lyon (Budget principal)</td>\n",
       "      <td>20004697700019</td>\n",
       "      <td>2021</td>\n",
       "      <td>NaN</td>\n",
       "      <td>NaN</td>\n",
       "      <td>BROTTEAUX AN 2000</td>\n",
       "      <td>NaN</td>\n",
       "      <td>NaN</td>\n",
       "      <td>ECO2-LY0N 06-18 RUE DE LA GAITE - AIDE EV 0693...</td>\n",
       "      <td>106580,62</td>\n",
       "      <td>aide en numéraire</td>\n",
       "      <td>unique</td>\n",
       "      <td>2021-05-04</td>\n",
       "      <td>NaN</td>\n",
       "      <td>False</td>\n",
       "      <td>1,0</td>\n",
       "      <td>NaN</td>\n",
       "      <td>9982</td>\n",
       "      <td>NaN</td>\n",
       "      <td>NaN</td>\n",
       "    </tr>\n",
       "    <tr>\n",
       "      <th>4</th>\n",
       "      <td>Métropole de Lyon (Budget principal)</td>\n",
       "      <td>20004697700019</td>\n",
       "      <td>2021</td>\n",
       "      <td>NaN</td>\n",
       "      <td>NaN</td>\n",
       "      <td>COPROPRIETE EXPLORER</td>\n",
       "      <td>NaN</td>\n",
       "      <td>NaN</td>\n",
       "      <td>ECO2-LY0N7-14-24 JACQUES MONOD-AIDE EV06938717...</td>\n",
       "      <td>73509,5</td>\n",
       "      <td>aide en numéraire</td>\n",
       "      <td>unique</td>\n",
       "      <td>2021-07-20</td>\n",
       "      <td>NaN</td>\n",
       "      <td>False</td>\n",
       "      <td>1,0</td>\n",
       "      <td>NaN</td>\n",
       "      <td>9983</td>\n",
       "      <td>NaN</td>\n",
       "      <td>NaN</td>\n",
       "    </tr>\n",
       "  </tbody>\n",
       "</table>\n",
       "</div>"
      ],
      "text/plain": [
       "                          nomattribuant    idattribuant  annee dateconvention  \\\n",
       "0  Métropole de Lyon (Budget principal)  20004697700019   2021            NaN   \n",
       "1  Métropole de Lyon (Budget principal)  20004697700019   2021            NaN   \n",
       "2  Métropole de Lyon (Budget principal)  20004697700019   2021            NaN   \n",
       "3  Métropole de Lyon (Budget principal)  20004697700019   2021            NaN   \n",
       "4  Métropole de Lyon (Budget principal)  20004697700019   2021            NaN   \n",
       "\n",
       "  referencedecision       nombeneficiaire  idbeneficiaire  rnabeneficiaire  \\\n",
       "0               NaN      45 MARYSE BASTIE             NaN              NaN   \n",
       "1               NaN         AGEA BELLEVUE             NaN              NaN   \n",
       "2               NaN         AGEA BELLEVUE             NaN              NaN   \n",
       "3               NaN     BROTTEAUX AN 2000             NaN              NaN   \n",
       "4               NaN  COPROPRIETE EXPLORER             NaN              NaN   \n",
       "\n",
       "                                               objet    montant  \\\n",
       "0  ECO-LY0N8-45 RUE MARYSE BASTIE-AIDE EV06938815...   235200,0   \n",
       "1  LA MULATIERE BELLEVUE _ Remplacement  de fenêt...    25847,7   \n",
       "2                               Loi Falloux 2019 - 1    47000,0   \n",
       "3  ECO2-LY0N 06-18 RUE DE LA GAITE - AIDE EV 0693...  106580,62   \n",
       "4  ECO2-LY0N7-14-24 JACQUES MONOD-AIDE EV06938717...    73509,5   \n",
       "\n",
       "              nature conditionsversement datesperiodeversement idrae  \\\n",
       "0  aide en numéraire              unique            2021-09-10   NaN   \n",
       "1  aide en numéraire              unique            2021-03-25   NaN   \n",
       "2  aide en numéraire              unique            2021-03-25   NaN   \n",
       "3  aide en numéraire              unique            2021-05-04   NaN   \n",
       "4  aide en numéraire              unique            2021-07-20   NaN   \n",
       "\n",
       "  notificationue pourcentagesubvention  dispositifaide   gid categorietiers  \\\n",
       "0          False                   1,0             NaN  9979            NaN   \n",
       "1          False                   1,0             NaN  9980            NaN   \n",
       "2          False                   1,0             NaN  9981            NaN   \n",
       "3          False                   1,0             NaN  9982            NaN   \n",
       "4          False                   1,0             NaN  9983            NaN   \n",
       "\n",
       "  naturecomptable  \n",
       "0             NaN  \n",
       "1             NaN  \n",
       "2             NaN  \n",
       "3             NaN  \n",
       "4             NaN  "
      ]
     },
     "execution_count": 64,
     "metadata": {},
     "output_type": "execute_result"
    }
   ],
   "source": [
    "df_lyon.head()"
   ]
  },
  {
   "cell_type": "code",
   "execution_count": 97,
   "metadata": {},
   "outputs": [
    {
     "data": {
      "text/html": [
       "<div>\n",
       "<style scoped>\n",
       "    .dataframe tbody tr th:only-of-type {\n",
       "        vertical-align: middle;\n",
       "    }\n",
       "\n",
       "    .dataframe tbody tr th {\n",
       "        vertical-align: top;\n",
       "    }\n",
       "\n",
       "    .dataframe thead th {\n",
       "        text-align: right;\n",
       "    }\n",
       "</style>\n",
       "<table border=\"1\" class=\"dataframe\">\n",
       "  <thead>\n",
       "    <tr style=\"text-align: right;\">\n",
       "      <th></th>\n",
       "      <th>Financeur</th>\n",
       "      <th>Année</th>\n",
       "      <th>Bénéficiaire</th>\n",
       "      <th>Objet</th>\n",
       "      <th>Montant</th>\n",
       "    </tr>\n",
       "  </thead>\n",
       "  <tbody>\n",
       "    <tr>\n",
       "      <th>1860</th>\n",
       "      <td>Métropole de Lyon (Budget principal)</td>\n",
       "      <td>2022</td>\n",
       "      <td>SDC LE SAINT ANDRE</td>\n",
       "      <td>ANAH_19804_ST ANDRE_SDC - ACOMPTE 28%</td>\n",
       "      <td>54870.00</td>\n",
       "    </tr>\n",
       "    <tr>\n",
       "      <th>1896</th>\n",
       "      <td>Métropole de Lyon (Budget principal)</td>\n",
       "      <td>2022</td>\n",
       "      <td>159-165 COURS TOLSTOI</td>\n",
       "      <td>ECO2-VILL-159-165 COURS TOLSTO - SOLDE2 -AJ</td>\n",
       "      <td>46161.20</td>\n",
       "    </tr>\n",
       "    <tr>\n",
       "      <th>1897</th>\n",
       "      <td>Métropole de Lyon (Budget principal)</td>\n",
       "      <td>2022</td>\n",
       "      <td>COPROPRIETE ARPEGE</td>\n",
       "      <td>ECO2-LY07-34-36 COL GIRARD - acompte 1-AJ</td>\n",
       "      <td>92791.89</td>\n",
       "    </tr>\n",
       "    <tr>\n",
       "      <th>1898</th>\n",
       "      <td>Métropole de Lyon (Budget principal)</td>\n",
       "      <td>2022</td>\n",
       "      <td>COPROPRIETE MONTRIBLOUD</td>\n",
       "      <td>ECO2_LY9_1 RUE DE MONTRIBLOUD - ACOMPTE 1- AJ</td>\n",
       "      <td>96000.00</td>\n",
       "    </tr>\n",
       "    <tr>\n",
       "      <th>1899</th>\n",
       "      <td>Métropole de Lyon (Budget principal)</td>\n",
       "      <td>2022</td>\n",
       "      <td>DELTRANS</td>\n",
       "      <td>DELTRANS Aides achat véhicules ZFE Pros 2022 -...</td>\n",
       "      <td>31000.00</td>\n",
       "    </tr>\n",
       "  </tbody>\n",
       "</table>\n",
       "</div>"
      ],
      "text/plain": [
       "                                 Financeur  Année             Bénéficiaire  \\\n",
       "1860  Métropole de Lyon (Budget principal)   2022       SDC LE SAINT ANDRE   \n",
       "1896  Métropole de Lyon (Budget principal)   2022    159-165 COURS TOLSTOI   \n",
       "1897  Métropole de Lyon (Budget principal)   2022       COPROPRIETE ARPEGE   \n",
       "1898  Métropole de Lyon (Budget principal)   2022  COPROPRIETE MONTRIBLOUD   \n",
       "1899  Métropole de Lyon (Budget principal)   2022                 DELTRANS   \n",
       "\n",
       "                                                  Objet   Montant  \n",
       "1860              ANAH_19804_ST ANDRE_SDC - ACOMPTE 28%  54870.00  \n",
       "1896        ECO2-VILL-159-165 COURS TOLSTO - SOLDE2 -AJ  46161.20  \n",
       "1897          ECO2-LY07-34-36 COL GIRARD - acompte 1-AJ  92791.89  \n",
       "1898      ECO2_LY9_1 RUE DE MONTRIBLOUD - ACOMPTE 1- AJ  96000.00  \n",
       "1899  DELTRANS Aides achat véhicules ZFE Pros 2022 -...  31000.00  "
      ]
     },
     "metadata": {},
     "output_type": "display_data"
    },
    {
     "data": {
      "text/html": [
       "<div>\n",
       "<style scoped>\n",
       "    .dataframe tbody tr th:only-of-type {\n",
       "        vertical-align: middle;\n",
       "    }\n",
       "\n",
       "    .dataframe tbody tr th {\n",
       "        vertical-align: top;\n",
       "    }\n",
       "\n",
       "    .dataframe thead th {\n",
       "        text-align: right;\n",
       "    }\n",
       "</style>\n",
       "<table border=\"1\" class=\"dataframe\">\n",
       "  <thead>\n",
       "    <tr style=\"text-align: right;\">\n",
       "      <th></th>\n",
       "      <th>Bénéficiaire</th>\n",
       "      <th>Objet</th>\n",
       "      <th>Montant</th>\n",
       "      <th>Ville_arrondissement</th>\n",
       "      <th>Programme</th>\n",
       "      <th>Année</th>\n",
       "      <th>Financeur</th>\n",
       "    </tr>\n",
       "  </thead>\n",
       "  <tbody>\n",
       "    <tr>\n",
       "      <th>147</th>\n",
       "      <td>AFCCC RHONE ALPES</td>\n",
       "      <td>Rétributions pour une intervention au titre de...</td>\n",
       "      <td>861.3</td>\n",
       "      <td>Lyon 1er Arrondissement</td>\n",
       "      <td>101.0</td>\n",
       "      <td>2022</td>\n",
       "      <td>Etat</td>\n",
       "    </tr>\n",
       "    <tr>\n",
       "      <th>148</th>\n",
       "      <td>AFCCC RHONE ALPES</td>\n",
       "      <td>Prestations de médiation familiale et gestion ...</td>\n",
       "      <td>97747.0</td>\n",
       "      <td>Lyon 1er Arrondissement</td>\n",
       "      <td>101.0</td>\n",
       "      <td>2022</td>\n",
       "      <td>Etat</td>\n",
       "    </tr>\n",
       "    <tr>\n",
       "      <th>489</th>\n",
       "      <td>CTRE DE LA FAMILLE ET DE LA MEDIATION</td>\n",
       "      <td>Rétributions pour une intervention au titre de...</td>\n",
       "      <td>768.0</td>\n",
       "      <td>Lyon 2e Arrondissement</td>\n",
       "      <td>101.0</td>\n",
       "      <td>2022</td>\n",
       "      <td>Etat</td>\n",
       "    </tr>\n",
       "    <tr>\n",
       "      <th>490</th>\n",
       "      <td>CTRE DE LA FAMILLE ET DE LA MEDIATION</td>\n",
       "      <td>Prestations de médiation familiale</td>\n",
       "      <td>20000.0</td>\n",
       "      <td>Lyon 2e Arrondissement</td>\n",
       "      <td>101.0</td>\n",
       "      <td>2022</td>\n",
       "      <td>Etat</td>\n",
       "    </tr>\n",
       "    <tr>\n",
       "      <th>609</th>\n",
       "      <td>SAUVEGARDE 69</td>\n",
       "      <td>Gestion d'un espace de rencontre</td>\n",
       "      <td>27000.0</td>\n",
       "      <td>Lyon 7e Arrondissement</td>\n",
       "      <td>101.0</td>\n",
       "      <td>2022</td>\n",
       "      <td>Etat</td>\n",
       "    </tr>\n",
       "  </tbody>\n",
       "</table>\n",
       "</div>"
      ],
      "text/plain": [
       "                              Bénéficiaire  \\\n",
       "147                      AFCCC RHONE ALPES   \n",
       "148                      AFCCC RHONE ALPES   \n",
       "489  CTRE DE LA FAMILLE ET DE LA MEDIATION   \n",
       "490  CTRE DE LA FAMILLE ET DE LA MEDIATION   \n",
       "609                          SAUVEGARDE 69   \n",
       "\n",
       "                                                 Objet  Montant  \\\n",
       "147  Rétributions pour une intervention au titre de...    861.3   \n",
       "148  Prestations de médiation familiale et gestion ...  97747.0   \n",
       "489  Rétributions pour une intervention au titre de...    768.0   \n",
       "490                 Prestations de médiation familiale  20000.0   \n",
       "609                   Gestion d'un espace de rencontre  27000.0   \n",
       "\n",
       "        Ville_arrondissement  Programme  Année Financeur  \n",
       "147  Lyon 1er Arrondissement      101.0   2022      Etat  \n",
       "148  Lyon 1er Arrondissement      101.0   2022      Etat  \n",
       "489   Lyon 2e Arrondissement      101.0   2022      Etat  \n",
       "490   Lyon 2e Arrondissement      101.0   2022      Etat  \n",
       "609   Lyon 7e Arrondissement      101.0   2022      Etat  "
      ]
     },
     "metadata": {},
     "output_type": "display_data"
    }
   ],
   "source": [
    "#Colonnes cibles pour fusion tableaux\n",
    "col_cibles = [\"Ville\", \"Bénéficiaire\", \"Financeur\", \"Année\", \"Objet\", \"Montant\"]\n",
    "corresp_lyon_dict = {\n",
    "    \"nomattribuant\" : \"Financeur\",\n",
    "    \"annee\" : \"Année\",\n",
    "    \"nombeneficiaire\" : \"Bénéficiaire\",\n",
    "    \"objet\" : \"Objet\",\n",
    "    \"montant\" : \"Montant\"\n",
    "}\n",
    "corresp_etat_dict = {\n",
    "    \"Dénomination\" : \"Bénéficiaire\",\n",
    "    \"Objet 2022\" : \"Objet\",\n",
    "    \"Montant\" : \"Montant\",\n",
    "    \"COG : libellé\" : \"Ville_arrondissement\",\n",
    "    \"Programme\" : \"Programme\"\n",
    "}\n",
    "\n",
    "\n",
    "\n",
    "#convertir les montants en float\n",
    "df_lyon[\"montant\"] = df_lyon[\"montant\"].str.replace(\",\",\".\").astype('float')\n",
    "df_lyon = df_lyon.loc[df_lyon[\"annee\"] == 2022]\n",
    "\n",
    "#renommer les colonnes et ne garder que celles là\n",
    "df_lyon = df_lyon[corresp_lyon_dict.keys()]\n",
    "df_lyon = df_lyon.rename(corresp_lyon_dict, axis = 1)\n",
    "\n",
    "#Filtrer sur la ville\n",
    "df_etat_lyon = df_etat[df_etat[\"COG : libellé\"].str.contains(\"^Lyon*\")]\n",
    "df_etat_lyon = df_etat_lyon[corresp_etat_dict.keys()]\n",
    "df_etat_lyon = df_etat_lyon.rename(corresp_etat_dict, axis = 1)\n",
    "df_etat_lyon[\"Année\"] = 2022\n",
    "df_etat_lyon[\"Financeur\"] = \"Etat\"\n",
    "\n",
    "display(df_lyon.head(), df_etat_lyon.head())\n"
   ]
  },
  {
   "cell_type": "code",
   "execution_count": null,
   "metadata": {},
   "outputs": [],
   "source": [
    "#Extraction de la liste des bénéficiaires\n",
    "list_benef = df_lyon[\"Bénéficiaire\"].sort_values().unique()\n",
    "pd.DataFrame(list_benef).to_csv(\"liste_benef.csv\")"
   ]
  },
  {
   "cell_type": "code",
   "execution_count": 98,
   "metadata": {},
   "outputs": [
    {
     "data": {
      "text/html": [
       "<div>\n",
       "<style scoped>\n",
       "    .dataframe tbody tr th:only-of-type {\n",
       "        vertical-align: middle;\n",
       "    }\n",
       "\n",
       "    .dataframe tbody tr th {\n",
       "        vertical-align: top;\n",
       "    }\n",
       "\n",
       "    .dataframe thead th {\n",
       "        text-align: right;\n",
       "    }\n",
       "</style>\n",
       "<table border=\"1\" class=\"dataframe\">\n",
       "  <thead>\n",
       "    <tr style=\"text-align: right;\">\n",
       "      <th></th>\n",
       "      <th>Nom</th>\n",
       "      <th>Exclusion</th>\n",
       "    </tr>\n",
       "  </thead>\n",
       "  <tbody>\n",
       "    <tr>\n",
       "      <th>5</th>\n",
       "      <td>ABC HLM DU RHONE</td>\n",
       "      <td>x</td>\n",
       "    </tr>\n",
       "    <tr>\n",
       "      <th>52</th>\n",
       "      <td>AGENCE D URBANISME DE L AIRE METROPOLITAINE LY...</td>\n",
       "      <td>x</td>\n",
       "    </tr>\n",
       "    <tr>\n",
       "      <th>53</th>\n",
       "      <td>AGENCE LOCALE DE L ENERGIE ET DU CLIMAT</td>\n",
       "      <td>x</td>\n",
       "    </tr>\n",
       "    <tr>\n",
       "      <th>54</th>\n",
       "      <td>AGENCE LOCALE DE L ENERGIE ET DU CLIMAT GRAND ...</td>\n",
       "      <td>x</td>\n",
       "    </tr>\n",
       "    <tr>\n",
       "      <th>55</th>\n",
       "      <td>AGENCE URBANISME AIRE METROP. LYONNAISE</td>\n",
       "      <td>x</td>\n",
       "    </tr>\n",
       "  </tbody>\n",
       "</table>\n",
       "</div>"
      ],
      "text/plain": [
       "                                                  Nom Exclusion\n",
       "5                                    ABC HLM DU RHONE         x\n",
       "52  AGENCE D URBANISME DE L AIRE METROPOLITAINE LY...         x\n",
       "53            AGENCE LOCALE DE L ENERGIE ET DU CLIMAT         x\n",
       "54  AGENCE LOCALE DE L ENERGIE ET DU CLIMAT GRAND ...         x\n",
       "55            AGENCE URBANISME AIRE METROP. LYONNAISE         x"
      ]
     },
     "execution_count": 98,
     "metadata": {},
     "output_type": "execute_result"
    }
   ],
   "source": [
    "#Nettoyage des entités non associatives à la main : bailleurs sociaux, agences\n",
    "exclusions = pd.read_csv(os.path.join(PATH, \"notebooks\", \"liste_benef_a_exclure.csv\"), sep = \";\")\n",
    "exclusions.head()\n",
    "exclusions.dropna(inplace = True)\n",
    "exclusions.head()\n"
   ]
  },
  {
   "cell_type": "code",
   "execution_count": 99,
   "metadata": {},
   "outputs": [],
   "source": [
    "lignes_exclues = df_lyon.loc[df_lyon[\"Bénéficiaire\"].isin(exclusions[\"Nom\"])]\n",
    "lignes_exclues.index\n",
    "df_lyon = df_lyon.drop(lignes_exclues.index, axis = 0)"
   ]
  },
  {
   "cell_type": "code",
   "execution_count": 100,
   "metadata": {},
   "outputs": [
    {
     "name": "stdout",
     "output_type": "stream",
     "text": [
      "1883\n",
      "4705\n"
     ]
    }
   ],
   "source": [
    "print(len(df_etat_lyon))\n",
    "print(len(df_lyon))"
   ]
  },
  {
   "cell_type": "code",
   "execution_count": 101,
   "metadata": {},
   "outputs": [
    {
     "data": {
      "text/html": [
       "<div>\n",
       "<style scoped>\n",
       "    .dataframe tbody tr th:only-of-type {\n",
       "        vertical-align: middle;\n",
       "    }\n",
       "\n",
       "    .dataframe tbody tr th {\n",
       "        vertical-align: top;\n",
       "    }\n",
       "\n",
       "    .dataframe thead th {\n",
       "        text-align: right;\n",
       "    }\n",
       "</style>\n",
       "<table border=\"1\" class=\"dataframe\">\n",
       "  <thead>\n",
       "    <tr style=\"text-align: right;\">\n",
       "      <th></th>\n",
       "      <th>Financeur</th>\n",
       "      <th>Année</th>\n",
       "      <th>Bénéficiaire</th>\n",
       "      <th>Objet</th>\n",
       "      <th>Montant</th>\n",
       "      <th>Ville_arrondissement</th>\n",
       "      <th>Programme</th>\n",
       "    </tr>\n",
       "  </thead>\n",
       "  <tbody>\n",
       "    <tr>\n",
       "      <th>1860</th>\n",
       "      <td>Métropole de Lyon (Budget principal)</td>\n",
       "      <td>2022</td>\n",
       "      <td>SDC LE SAINT ANDRE</td>\n",
       "      <td>ANAH_19804_ST ANDRE_SDC - ACOMPTE 28%</td>\n",
       "      <td>54870.00</td>\n",
       "      <td>NaN</td>\n",
       "      <td>NaN</td>\n",
       "    </tr>\n",
       "    <tr>\n",
       "      <th>1896</th>\n",
       "      <td>Métropole de Lyon (Budget principal)</td>\n",
       "      <td>2022</td>\n",
       "      <td>159-165 COURS TOLSTOI</td>\n",
       "      <td>ECO2-VILL-159-165 COURS TOLSTO - SOLDE2 -AJ</td>\n",
       "      <td>46161.20</td>\n",
       "      <td>NaN</td>\n",
       "      <td>NaN</td>\n",
       "    </tr>\n",
       "    <tr>\n",
       "      <th>1897</th>\n",
       "      <td>Métropole de Lyon (Budget principal)</td>\n",
       "      <td>2022</td>\n",
       "      <td>COPROPRIETE ARPEGE</td>\n",
       "      <td>ECO2-LY07-34-36 COL GIRARD - acompte 1-AJ</td>\n",
       "      <td>92791.89</td>\n",
       "      <td>NaN</td>\n",
       "      <td>NaN</td>\n",
       "    </tr>\n",
       "    <tr>\n",
       "      <th>1898</th>\n",
       "      <td>Métropole de Lyon (Budget principal)</td>\n",
       "      <td>2022</td>\n",
       "      <td>COPROPRIETE MONTRIBLOUD</td>\n",
       "      <td>ECO2_LY9_1 RUE DE MONTRIBLOUD - ACOMPTE 1- AJ</td>\n",
       "      <td>96000.00</td>\n",
       "      <td>NaN</td>\n",
       "      <td>NaN</td>\n",
       "    </tr>\n",
       "    <tr>\n",
       "      <th>1899</th>\n",
       "      <td>Métropole de Lyon (Budget principal)</td>\n",
       "      <td>2022</td>\n",
       "      <td>DELTRANS</td>\n",
       "      <td>DELTRANS Aides achat véhicules ZFE Pros 2022 -...</td>\n",
       "      <td>31000.00</td>\n",
       "      <td>NaN</td>\n",
       "      <td>NaN</td>\n",
       "    </tr>\n",
       "  </tbody>\n",
       "</table>\n",
       "</div>"
      ],
      "text/plain": [
       "                                 Financeur  Année             Bénéficiaire  \\\n",
       "1860  Métropole de Lyon (Budget principal)   2022       SDC LE SAINT ANDRE   \n",
       "1896  Métropole de Lyon (Budget principal)   2022    159-165 COURS TOLSTOI   \n",
       "1897  Métropole de Lyon (Budget principal)   2022       COPROPRIETE ARPEGE   \n",
       "1898  Métropole de Lyon (Budget principal)   2022  COPROPRIETE MONTRIBLOUD   \n",
       "1899  Métropole de Lyon (Budget principal)   2022                 DELTRANS   \n",
       "\n",
       "                                                  Objet   Montant  \\\n",
       "1860              ANAH_19804_ST ANDRE_SDC - ACOMPTE 28%  54870.00   \n",
       "1896        ECO2-VILL-159-165 COURS TOLSTO - SOLDE2 -AJ  46161.20   \n",
       "1897          ECO2-LY07-34-36 COL GIRARD - acompte 1-AJ  92791.89   \n",
       "1898      ECO2_LY9_1 RUE DE MONTRIBLOUD - ACOMPTE 1- AJ  96000.00   \n",
       "1899  DELTRANS Aides achat véhicules ZFE Pros 2022 -...  31000.00   \n",
       "\n",
       "     Ville_arrondissement  Programme  \n",
       "1860                  NaN        NaN  \n",
       "1896                  NaN        NaN  \n",
       "1897                  NaN        NaN  \n",
       "1898                  NaN        NaN  \n",
       "1899                  NaN        NaN  "
      ]
     },
     "execution_count": 101,
     "metadata": {},
     "output_type": "execute_result"
    }
   ],
   "source": [
    "#CONCAAAAT\n",
    "df_total = pd.concat([df_lyon, df_etat_lyon], axis = 0)\n",
    "\n",
    "#Retraitement des structures nommées différement (identification manuelle...)\n",
    "\n",
    "df_total = df_total.replace({\n",
    "    \"OPERA NATIONAL DE LYON\" : \"OPERA DE LYON\",\n",
    "    \"LE BLOC OPERATOIRE\" : \"ASSOCIATION LE BLOC OPERATOIRE\",\n",
    "    \"SERVICE DE COOPERATION AU DEVELOPPEMENT - SCD\" : \"SERVICE DE COOPERATION AU DEVELOPPEMENT\"})\n",
    "\n",
    "\n",
    "df_total.head()"
   ]
  },
  {
   "cell_type": "code",
   "execution_count": 102,
   "metadata": {},
   "outputs": [
    {
     "name": "stdout",
     "output_type": "stream",
     "text": [
      "169314778.33999997 181069255.23999998\n",
      "Total pour référence :  350384033.58000004\n"
     ]
    }
   ],
   "source": [
    "print(df_lyon[\"Montant\"].sum(), df_etat_lyon[\"Montant\"].sum())\n",
    "print(\"Total pour référence : \", df_total[\"Montant\"].sum())"
   ]
  },
  {
   "cell_type": "code",
   "execution_count": 71,
   "metadata": {},
   "outputs": [
    {
     "data": {
      "text/html": [
       "<div>\n",
       "<style scoped>\n",
       "    .dataframe tbody tr th:only-of-type {\n",
       "        vertical-align: middle;\n",
       "    }\n",
       "\n",
       "    .dataframe tbody tr th {\n",
       "        vertical-align: top;\n",
       "    }\n",
       "\n",
       "    .dataframe thead th {\n",
       "        text-align: right;\n",
       "    }\n",
       "</style>\n",
       "<table border=\"1\" class=\"dataframe\">\n",
       "  <thead>\n",
       "    <tr style=\"text-align: right;\">\n",
       "      <th></th>\n",
       "      <th>Financeur</th>\n",
       "      <th>Année</th>\n",
       "      <th>Bénéficiaire</th>\n",
       "      <th>Objet</th>\n",
       "      <th>Montant</th>\n",
       "      <th>Ville_arrondissement</th>\n",
       "      <th>Programme</th>\n",
       "    </tr>\n",
       "  </thead>\n",
       "  <tbody>\n",
       "    <tr>\n",
       "      <th>1860</th>\n",
       "      <td>Métropole de Lyon (Budget principal)</td>\n",
       "      <td>2022</td>\n",
       "      <td>SDC LE SAINT ANDRE</td>\n",
       "      <td>ANAH_19804_ST ANDRE_SDC - ACOMPTE 28%</td>\n",
       "      <td>54870.00</td>\n",
       "      <td>NaN</td>\n",
       "      <td>NaN</td>\n",
       "    </tr>\n",
       "    <tr>\n",
       "      <th>1896</th>\n",
       "      <td>Métropole de Lyon (Budget principal)</td>\n",
       "      <td>2022</td>\n",
       "      <td>159-165 COURS TOLSTOI</td>\n",
       "      <td>ECO2-VILL-159-165 COURS TOLSTO - SOLDE2 -AJ</td>\n",
       "      <td>46161.20</td>\n",
       "      <td>NaN</td>\n",
       "      <td>NaN</td>\n",
       "    </tr>\n",
       "    <tr>\n",
       "      <th>1897</th>\n",
       "      <td>Métropole de Lyon (Budget principal)</td>\n",
       "      <td>2022</td>\n",
       "      <td>COPROPRIETE ARPEGE</td>\n",
       "      <td>ECO2-LY07-34-36 COL GIRARD - acompte 1-AJ</td>\n",
       "      <td>92791.89</td>\n",
       "      <td>NaN</td>\n",
       "      <td>NaN</td>\n",
       "    </tr>\n",
       "    <tr>\n",
       "      <th>1898</th>\n",
       "      <td>Métropole de Lyon (Budget principal)</td>\n",
       "      <td>2022</td>\n",
       "      <td>COPROPRIETE MONTRIBLOUD</td>\n",
       "      <td>ECO2_LY9_1 RUE DE MONTRIBLOUD - ACOMPTE 1- AJ</td>\n",
       "      <td>96000.00</td>\n",
       "      <td>NaN</td>\n",
       "      <td>NaN</td>\n",
       "    </tr>\n",
       "    <tr>\n",
       "      <th>1899</th>\n",
       "      <td>Métropole de Lyon (Budget principal)</td>\n",
       "      <td>2022</td>\n",
       "      <td>DELTRANS</td>\n",
       "      <td>DELTRANS Aides achat véhicules ZFE Pros 2022 -...</td>\n",
       "      <td>31000.00</td>\n",
       "      <td>NaN</td>\n",
       "      <td>NaN</td>\n",
       "    </tr>\n",
       "  </tbody>\n",
       "</table>\n",
       "</div>"
      ],
      "text/plain": [
       "                                 Financeur  Année             Bénéficiaire  \\\n",
       "1860  Métropole de Lyon (Budget principal)   2022       SDC LE SAINT ANDRE   \n",
       "1896  Métropole de Lyon (Budget principal)   2022    159-165 COURS TOLSTOI   \n",
       "1897  Métropole de Lyon (Budget principal)   2022       COPROPRIETE ARPEGE   \n",
       "1898  Métropole de Lyon (Budget principal)   2022  COPROPRIETE MONTRIBLOUD   \n",
       "1899  Métropole de Lyon (Budget principal)   2022                 DELTRANS   \n",
       "\n",
       "                                                  Objet   Montant  \\\n",
       "1860              ANAH_19804_ST ANDRE_SDC - ACOMPTE 28%  54870.00   \n",
       "1896        ECO2-VILL-159-165 COURS TOLSTO - SOLDE2 -AJ  46161.20   \n",
       "1897          ECO2-LY07-34-36 COL GIRARD - acompte 1-AJ  92791.89   \n",
       "1898      ECO2_LY9_1 RUE DE MONTRIBLOUD - ACOMPTE 1- AJ  96000.00   \n",
       "1899  DELTRANS Aides achat véhicules ZFE Pros 2022 -...  31000.00   \n",
       "\n",
       "     Ville_arrondissement  Programme  \n",
       "1860                  NaN        NaN  \n",
       "1896                  NaN        NaN  \n",
       "1897                  NaN        NaN  \n",
       "1898                  NaN        NaN  \n",
       "1899                  NaN        NaN  "
      ]
     },
     "execution_count": 71,
     "metadata": {},
     "output_type": "execute_result"
    }
   ],
   "source": [
    "df_total.head()"
   ]
  },
  {
   "cell_type": "code",
   "execution_count": 110,
   "metadata": {},
   "outputs": [
    {
     "name": "stdout",
     "output_type": "stream",
     "text": [
      "<class 'pandas.core.frame.DataFrame'>\n",
      "Int64Index: 6606 entries, 1860 to 109465\n",
      "Data columns (total 7 columns):\n",
      " #   Column                Non-Null Count  Dtype  \n",
      "---  ------                --------------  -----  \n",
      " 0   Financeur             6606 non-null   object \n",
      " 1   Année                 6606 non-null   int64  \n",
      " 2   Bénéficiaire          6606 non-null   object \n",
      " 3   Objet                 6235 non-null   object \n",
      " 4   Montant               6606 non-null   float64\n",
      " 5   Ville_arrondissement  1883 non-null   object \n",
      " 6   Programme             1883 non-null   float64\n",
      "dtypes: float64(2), int64(1), object(4)\n",
      "memory usage: 412.9+ KB\n"
     ]
    }
   ],
   "source": [
    "df_total.info()"
   ]
  },
  {
   "cell_type": "code",
   "execution_count": 103,
   "metadata": {},
   "outputs": [],
   "source": [
    "#harmoniser le type\n",
    "df_total[\"Bénéficiaire\"] = df_total[\"Bénéficiaire\"].astype(\"string\")\n",
    "\n",
    "#harmoniser unicode ?\n",
    "df_total[\"Bénéficiaire\"] = df_total[\"Bénéficiaire\"].apply(lambda x : unicodedata.normalize(\"NFKD\", x))\n",
    "\n",
    "df_total.to_parquet(os.path.join(PATH, \"data\", \"base_consolidee.parquet\"))"
   ]
  },
  {
   "cell_type": "code",
   "execution_count": 75,
   "metadata": {},
   "outputs": [
    {
     "data": {
      "text/html": [
       "<div>\n",
       "<style scoped>\n",
       "    .dataframe tbody tr th:only-of-type {\n",
       "        vertical-align: middle;\n",
       "    }\n",
       "\n",
       "    .dataframe tbody tr th {\n",
       "        vertical-align: top;\n",
       "    }\n",
       "\n",
       "    .dataframe thead th {\n",
       "        text-align: right;\n",
       "    }\n",
       "</style>\n",
       "<table border=\"1\" class=\"dataframe\">\n",
       "  <thead>\n",
       "    <tr style=\"text-align: right;\">\n",
       "      <th></th>\n",
       "      <th>Financeur</th>\n",
       "      <th>Bénéficiaire</th>\n",
       "      <th>Montant</th>\n",
       "    </tr>\n",
       "  </thead>\n",
       "  <tbody>\n",
       "    <tr>\n",
       "      <th>0</th>\n",
       "      <td>Commune de Lyon</td>\n",
       "      <td>124 SERVICES</td>\n",
       "      <td>30600.0</td>\n",
       "    </tr>\n",
       "    <tr>\n",
       "      <th>1</th>\n",
       "      <td>Commune de Lyon</td>\n",
       "      <td>A L'ASCENSEUR</td>\n",
       "      <td>2500.0</td>\n",
       "    </tr>\n",
       "    <tr>\n",
       "      <th>2</th>\n",
       "      <td>Commune de Lyon</td>\n",
       "      <td>A LA CROISEE DES CHEMINS EPI C BON</td>\n",
       "      <td>12000.0</td>\n",
       "    </tr>\n",
       "    <tr>\n",
       "      <th>3</th>\n",
       "      <td>Commune de Lyon</td>\n",
       "      <td>ACADEMIE LYONNAISE DE BOXE</td>\n",
       "      <td>2000.0</td>\n",
       "    </tr>\n",
       "    <tr>\n",
       "      <th>4</th>\n",
       "      <td>Commune de Lyon</td>\n",
       "      <td>ACADEMIE SCIENCES BELLES LETTRES ARTS</td>\n",
       "      <td>53900.0</td>\n",
       "    </tr>\n",
       "    <tr>\n",
       "      <th>...</th>\n",
       "      <td>...</td>\n",
       "      <td>...</td>\n",
       "      <td>...</td>\n",
       "    </tr>\n",
       "    <tr>\n",
       "      <th>2666</th>\n",
       "      <td>Métropole de Lyon (Budget principal)</td>\n",
       "      <td>VIRAGES SANTE</td>\n",
       "      <td>25000.0</td>\n",
       "    </tr>\n",
       "    <tr>\n",
       "      <th>2667</th>\n",
       "      <td>Métropole de Lyon (Budget principal)</td>\n",
       "      <td>VLM VILLEURBANNE LYON METROPOLE</td>\n",
       "      <td>78000.0</td>\n",
       "    </tr>\n",
       "    <tr>\n",
       "      <th>2668</th>\n",
       "      <td>Métropole de Lyon (Budget principal)</td>\n",
       "      <td>VOISINMALIN</td>\n",
       "      <td>42190.0</td>\n",
       "    </tr>\n",
       "    <tr>\n",
       "      <th>2669</th>\n",
       "      <td>Métropole de Lyon (Budget principal)</td>\n",
       "      <td>WEAVERS</td>\n",
       "      <td>17500.0</td>\n",
       "    </tr>\n",
       "    <tr>\n",
       "      <th>2670</th>\n",
       "      <td>Métropole de Lyon (Budget principal)</td>\n",
       "      <td>WOODSTOWER</td>\n",
       "      <td>63500.0</td>\n",
       "    </tr>\n",
       "  </tbody>\n",
       "</table>\n",
       "<p>2671 rows × 3 columns</p>\n",
       "</div>"
      ],
      "text/plain": [
       "                                 Financeur  \\\n",
       "0                          Commune de Lyon   \n",
       "1                          Commune de Lyon   \n",
       "2                          Commune de Lyon   \n",
       "3                          Commune de Lyon   \n",
       "4                          Commune de Lyon   \n",
       "...                                    ...   \n",
       "2666  Métropole de Lyon (Budget principal)   \n",
       "2667  Métropole de Lyon (Budget principal)   \n",
       "2668  Métropole de Lyon (Budget principal)   \n",
       "2669  Métropole de Lyon (Budget principal)   \n",
       "2670  Métropole de Lyon (Budget principal)   \n",
       "\n",
       "                               Bénéficiaire  Montant  \n",
       "0                              124 SERVICES  30600.0  \n",
       "1                             A L'ASCENSEUR   2500.0  \n",
       "2        A LA CROISEE DES CHEMINS EPI C BON  12000.0  \n",
       "3                ACADEMIE LYONNAISE DE BOXE   2000.0  \n",
       "4     ACADEMIE SCIENCES BELLES LETTRES ARTS  53900.0  \n",
       "...                                     ...      ...  \n",
       "2666                          VIRAGES SANTE  25000.0  \n",
       "2667        VLM VILLEURBANNE LYON METROPOLE  78000.0  \n",
       "2668                            VOISINMALIN  42190.0  \n",
       "2669                                WEAVERS  17500.0  \n",
       "2670                             WOODSTOWER  63500.0  \n",
       "\n",
       "[2671 rows x 3 columns]"
      ]
     },
     "execution_count": 75,
     "metadata": {},
     "output_type": "execute_result"
    }
   ],
   "source": [
    "#Nombre d'acteurs subventionnés & montants\n",
    "df_financeur_benef = df_total.groupby([\"Financeur\", \"Bénéficiaire\"], as_index = False)[\"Montant\"].sum()\n",
    "df_financeur_benef\n"
   ]
  },
  {
   "cell_type": "code",
   "execution_count": 98,
   "metadata": {},
   "outputs": [
    {
     "data": {
      "text/html": [
       "<div>\n",
       "<style scoped>\n",
       "    .dataframe tbody tr th:only-of-type {\n",
       "        vertical-align: middle;\n",
       "    }\n",
       "\n",
       "    .dataframe tbody tr th {\n",
       "        vertical-align: top;\n",
       "    }\n",
       "\n",
       "    .dataframe thead th {\n",
       "        text-align: right;\n",
       "    }\n",
       "</style>\n",
       "<table border=\"1\" class=\"dataframe\">\n",
       "  <thead>\n",
       "    <tr style=\"text-align: right;\">\n",
       "      <th></th>\n",
       "      <th>Financeur</th>\n",
       "      <th>Bénéficiaire</th>\n",
       "      <th>Montant</th>\n",
       "      <th>Montant_2</th>\n",
       "    </tr>\n",
       "  </thead>\n",
       "  <tbody>\n",
       "    <tr>\n",
       "      <th>0</th>\n",
       "      <td>Commune de Lyon</td>\n",
       "      <td>1389</td>\n",
       "      <td>1.058209e+08</td>\n",
       "      <td>105 820 888 €</td>\n",
       "    </tr>\n",
       "    <tr>\n",
       "      <th>1</th>\n",
       "      <td>Etat</td>\n",
       "      <td>870</td>\n",
       "      <td>1.810693e+08</td>\n",
       "      <td>181 069 255 €</td>\n",
       "    </tr>\n",
       "    <tr>\n",
       "      <th>2</th>\n",
       "      <td>Métropole de Lyon (Budget principal)</td>\n",
       "      <td>412</td>\n",
       "      <td>8.108632e+07</td>\n",
       "      <td>81 086 324 €</td>\n",
       "    </tr>\n",
       "  </tbody>\n",
       "</table>\n",
       "</div>"
      ],
      "text/plain": [
       "                              Financeur  Bénéficiaire       Montant  \\\n",
       "0                       Commune de Lyon          1389  1.058209e+08   \n",
       "1                                  Etat           870  1.810693e+08   \n",
       "2  Métropole de Lyon (Budget principal)           412  8.108632e+07   \n",
       "\n",
       "       Montant_2  \n",
       "0  105 820 888 €  \n",
       "1  181 069 255 €  \n",
       "2   81 086 324 €  "
      ]
     },
     "execution_count": 98,
     "metadata": {},
     "output_type": "execute_result"
    }
   ],
   "source": [
    "df_financeur_global = df_financeur_benef.groupby(\"Financeur\", as_index = False).agg({\n",
    "    \"Bénéficiaire\" : \"count\",\n",
    "    \"Montant\" : \"sum\"\n",
    "})\n",
    "df_financeur_global\n",
    "df_financeur_global[\"Montant_2\"] = df_financeur_global[\"Montant\"].map('{:,.0f}'.format).str.replace(\",\",\" \") + \" €\"\n",
    "df_financeur_global"
   ]
  },
  {
   "cell_type": "code",
   "execution_count": 99,
   "metadata": {},
   "outputs": [
    {
     "data": {
      "application/vnd.plotly.v1+json": {
       "config": {
        "plotlyServerURL": "https://plot.ly"
       },
       "data": [
        {
         "alignmentgroup": "True",
         "hovertemplate": "Financeur=%{y}<br>Montant=%{x}<br>Montant_2=%{text}<extra></extra>",
         "legendgroup": "Etat",
         "marker": {
          "color": "#636efa",
          "pattern": {
           "shape": ""
          }
         },
         "name": "Etat",
         "offsetgroup": "Etat",
         "orientation": "h",
         "showlegend": true,
         "text": [
          "181 069 255 €"
         ],
         "textposition": "inside",
         "type": "bar",
         "x": [
          181069255.24
         ],
         "xaxis": "x",
         "y": [
          "Etat"
         ],
         "yaxis": "y"
        },
        {
         "alignmentgroup": "True",
         "hovertemplate": "Financeur=%{y}<br>Montant=%{x}<br>Montant_2=%{text}<extra></extra>",
         "legendgroup": "Commune de Lyon",
         "marker": {
          "color": "#EF553B",
          "pattern": {
           "shape": ""
          }
         },
         "name": "Commune de Lyon",
         "offsetgroup": "Commune de Lyon",
         "orientation": "h",
         "showlegend": true,
         "text": [
          "105 820 888 €"
         ],
         "textposition": "inside",
         "type": "bar",
         "x": [
          105820888.06
         ],
         "xaxis": "x",
         "y": [
          "Commune de Lyon"
         ],
         "yaxis": "y"
        },
        {
         "alignmentgroup": "True",
         "hovertemplate": "Financeur=%{y}<br>Montant=%{x}<br>Montant_2=%{text}<extra></extra>",
         "legendgroup": "Métropole de Lyon (Budget principal)",
         "marker": {
          "color": "#00cc96",
          "pattern": {
           "shape": ""
          }
         },
         "name": "Métropole de Lyon (Budget principal)",
         "offsetgroup": "Métropole de Lyon (Budget principal)",
         "orientation": "h",
         "showlegend": true,
         "text": [
          "81 086 324 €"
         ],
         "textposition": "inside",
         "type": "bar",
         "x": [
          81086323.85
         ],
         "xaxis": "x",
         "y": [
          "Métropole de Lyon (Budget principal)"
         ],
         "yaxis": "y"
        }
       ],
       "layout": {
        "autosize": true,
        "barmode": "stack",
        "legend": {
         "title": {
          "text": "Financeur"
         },
         "tracegroupgap": 0
        },
        "showlegend": false,
        "template": {
         "data": {
          "bar": [
           {
            "error_x": {
             "color": "#2a3f5f"
            },
            "error_y": {
             "color": "#2a3f5f"
            },
            "marker": {
             "line": {
              "color": "#E5ECF6",
              "width": 0.5
             },
             "pattern": {
              "fillmode": "overlay",
              "size": 10,
              "solidity": 0.2
             }
            },
            "type": "bar"
           }
          ],
          "barpolar": [
           {
            "marker": {
             "line": {
              "color": "#E5ECF6",
              "width": 0.5
             },
             "pattern": {
              "fillmode": "overlay",
              "size": 10,
              "solidity": 0.2
             }
            },
            "type": "barpolar"
           }
          ],
          "carpet": [
           {
            "aaxis": {
             "endlinecolor": "#2a3f5f",
             "gridcolor": "white",
             "linecolor": "white",
             "minorgridcolor": "white",
             "startlinecolor": "#2a3f5f"
            },
            "baxis": {
             "endlinecolor": "#2a3f5f",
             "gridcolor": "white",
             "linecolor": "white",
             "minorgridcolor": "white",
             "startlinecolor": "#2a3f5f"
            },
            "type": "carpet"
           }
          ],
          "choropleth": [
           {
            "colorbar": {
             "outlinewidth": 0,
             "ticks": ""
            },
            "type": "choropleth"
           }
          ],
          "contour": [
           {
            "colorbar": {
             "outlinewidth": 0,
             "ticks": ""
            },
            "colorscale": [
             [
              0,
              "#0d0887"
             ],
             [
              0.1111111111111111,
              "#46039f"
             ],
             [
              0.2222222222222222,
              "#7201a8"
             ],
             [
              0.3333333333333333,
              "#9c179e"
             ],
             [
              0.4444444444444444,
              "#bd3786"
             ],
             [
              0.5555555555555556,
              "#d8576b"
             ],
             [
              0.6666666666666666,
              "#ed7953"
             ],
             [
              0.7777777777777778,
              "#fb9f3a"
             ],
             [
              0.8888888888888888,
              "#fdca26"
             ],
             [
              1,
              "#f0f921"
             ]
            ],
            "type": "contour"
           }
          ],
          "contourcarpet": [
           {
            "colorbar": {
             "outlinewidth": 0,
             "ticks": ""
            },
            "type": "contourcarpet"
           }
          ],
          "heatmap": [
           {
            "colorbar": {
             "outlinewidth": 0,
             "ticks": ""
            },
            "colorscale": [
             [
              0,
              "#0d0887"
             ],
             [
              0.1111111111111111,
              "#46039f"
             ],
             [
              0.2222222222222222,
              "#7201a8"
             ],
             [
              0.3333333333333333,
              "#9c179e"
             ],
             [
              0.4444444444444444,
              "#bd3786"
             ],
             [
              0.5555555555555556,
              "#d8576b"
             ],
             [
              0.6666666666666666,
              "#ed7953"
             ],
             [
              0.7777777777777778,
              "#fb9f3a"
             ],
             [
              0.8888888888888888,
              "#fdca26"
             ],
             [
              1,
              "#f0f921"
             ]
            ],
            "type": "heatmap"
           }
          ],
          "heatmapgl": [
           {
            "colorbar": {
             "outlinewidth": 0,
             "ticks": ""
            },
            "colorscale": [
             [
              0,
              "#0d0887"
             ],
             [
              0.1111111111111111,
              "#46039f"
             ],
             [
              0.2222222222222222,
              "#7201a8"
             ],
             [
              0.3333333333333333,
              "#9c179e"
             ],
             [
              0.4444444444444444,
              "#bd3786"
             ],
             [
              0.5555555555555556,
              "#d8576b"
             ],
             [
              0.6666666666666666,
              "#ed7953"
             ],
             [
              0.7777777777777778,
              "#fb9f3a"
             ],
             [
              0.8888888888888888,
              "#fdca26"
             ],
             [
              1,
              "#f0f921"
             ]
            ],
            "type": "heatmapgl"
           }
          ],
          "histogram": [
           {
            "marker": {
             "pattern": {
              "fillmode": "overlay",
              "size": 10,
              "solidity": 0.2
             }
            },
            "type": "histogram"
           }
          ],
          "histogram2d": [
           {
            "colorbar": {
             "outlinewidth": 0,
             "ticks": ""
            },
            "colorscale": [
             [
              0,
              "#0d0887"
             ],
             [
              0.1111111111111111,
              "#46039f"
             ],
             [
              0.2222222222222222,
              "#7201a8"
             ],
             [
              0.3333333333333333,
              "#9c179e"
             ],
             [
              0.4444444444444444,
              "#bd3786"
             ],
             [
              0.5555555555555556,
              "#d8576b"
             ],
             [
              0.6666666666666666,
              "#ed7953"
             ],
             [
              0.7777777777777778,
              "#fb9f3a"
             ],
             [
              0.8888888888888888,
              "#fdca26"
             ],
             [
              1,
              "#f0f921"
             ]
            ],
            "type": "histogram2d"
           }
          ],
          "histogram2dcontour": [
           {
            "colorbar": {
             "outlinewidth": 0,
             "ticks": ""
            },
            "colorscale": [
             [
              0,
              "#0d0887"
             ],
             [
              0.1111111111111111,
              "#46039f"
             ],
             [
              0.2222222222222222,
              "#7201a8"
             ],
             [
              0.3333333333333333,
              "#9c179e"
             ],
             [
              0.4444444444444444,
              "#bd3786"
             ],
             [
              0.5555555555555556,
              "#d8576b"
             ],
             [
              0.6666666666666666,
              "#ed7953"
             ],
             [
              0.7777777777777778,
              "#fb9f3a"
             ],
             [
              0.8888888888888888,
              "#fdca26"
             ],
             [
              1,
              "#f0f921"
             ]
            ],
            "type": "histogram2dcontour"
           }
          ],
          "mesh3d": [
           {
            "colorbar": {
             "outlinewidth": 0,
             "ticks": ""
            },
            "type": "mesh3d"
           }
          ],
          "parcoords": [
           {
            "line": {
             "colorbar": {
              "outlinewidth": 0,
              "ticks": ""
             }
            },
            "type": "parcoords"
           }
          ],
          "pie": [
           {
            "automargin": true,
            "type": "pie"
           }
          ],
          "scatter": [
           {
            "fillpattern": {
             "fillmode": "overlay",
             "size": 10,
             "solidity": 0.2
            },
            "type": "scatter"
           }
          ],
          "scatter3d": [
           {
            "line": {
             "colorbar": {
              "outlinewidth": 0,
              "ticks": ""
             }
            },
            "marker": {
             "colorbar": {
              "outlinewidth": 0,
              "ticks": ""
             }
            },
            "type": "scatter3d"
           }
          ],
          "scattercarpet": [
           {
            "marker": {
             "colorbar": {
              "outlinewidth": 0,
              "ticks": ""
             }
            },
            "type": "scattercarpet"
           }
          ],
          "scattergeo": [
           {
            "marker": {
             "colorbar": {
              "outlinewidth": 0,
              "ticks": ""
             }
            },
            "type": "scattergeo"
           }
          ],
          "scattergl": [
           {
            "marker": {
             "colorbar": {
              "outlinewidth": 0,
              "ticks": ""
             }
            },
            "type": "scattergl"
           }
          ],
          "scattermapbox": [
           {
            "marker": {
             "colorbar": {
              "outlinewidth": 0,
              "ticks": ""
             }
            },
            "type": "scattermapbox"
           }
          ],
          "scatterpolar": [
           {
            "marker": {
             "colorbar": {
              "outlinewidth": 0,
              "ticks": ""
             }
            },
            "type": "scatterpolar"
           }
          ],
          "scatterpolargl": [
           {
            "marker": {
             "colorbar": {
              "outlinewidth": 0,
              "ticks": ""
             }
            },
            "type": "scatterpolargl"
           }
          ],
          "scatterternary": [
           {
            "marker": {
             "colorbar": {
              "outlinewidth": 0,
              "ticks": ""
             }
            },
            "type": "scatterternary"
           }
          ],
          "surface": [
           {
            "colorbar": {
             "outlinewidth": 0,
             "ticks": ""
            },
            "colorscale": [
             [
              0,
              "#0d0887"
             ],
             [
              0.1111111111111111,
              "#46039f"
             ],
             [
              0.2222222222222222,
              "#7201a8"
             ],
             [
              0.3333333333333333,
              "#9c179e"
             ],
             [
              0.4444444444444444,
              "#bd3786"
             ],
             [
              0.5555555555555556,
              "#d8576b"
             ],
             [
              0.6666666666666666,
              "#ed7953"
             ],
             [
              0.7777777777777778,
              "#fb9f3a"
             ],
             [
              0.8888888888888888,
              "#fdca26"
             ],
             [
              1,
              "#f0f921"
             ]
            ],
            "type": "surface"
           }
          ],
          "table": [
           {
            "cells": {
             "fill": {
              "color": "#EBF0F8"
             },
             "line": {
              "color": "white"
             }
            },
            "header": {
             "fill": {
              "color": "#C8D4E3"
             },
             "line": {
              "color": "white"
             }
            },
            "type": "table"
           }
          ]
         },
         "layout": {
          "annotationdefaults": {
           "arrowcolor": "#2a3f5f",
           "arrowhead": 0,
           "arrowwidth": 1
          },
          "autotypenumbers": "strict",
          "coloraxis": {
           "colorbar": {
            "outlinewidth": 0,
            "ticks": ""
           }
          },
          "colorscale": {
           "diverging": [
            [
             0,
             "#8e0152"
            ],
            [
             0.1,
             "#c51b7d"
            ],
            [
             0.2,
             "#de77ae"
            ],
            [
             0.3,
             "#f1b6da"
            ],
            [
             0.4,
             "#fde0ef"
            ],
            [
             0.5,
             "#f7f7f7"
            ],
            [
             0.6,
             "#e6f5d0"
            ],
            [
             0.7,
             "#b8e186"
            ],
            [
             0.8,
             "#7fbc41"
            ],
            [
             0.9,
             "#4d9221"
            ],
            [
             1,
             "#276419"
            ]
           ],
           "sequential": [
            [
             0,
             "#0d0887"
            ],
            [
             0.1111111111111111,
             "#46039f"
            ],
            [
             0.2222222222222222,
             "#7201a8"
            ],
            [
             0.3333333333333333,
             "#9c179e"
            ],
            [
             0.4444444444444444,
             "#bd3786"
            ],
            [
             0.5555555555555556,
             "#d8576b"
            ],
            [
             0.6666666666666666,
             "#ed7953"
            ],
            [
             0.7777777777777778,
             "#fb9f3a"
            ],
            [
             0.8888888888888888,
             "#fdca26"
            ],
            [
             1,
             "#f0f921"
            ]
           ],
           "sequentialminus": [
            [
             0,
             "#0d0887"
            ],
            [
             0.1111111111111111,
             "#46039f"
            ],
            [
             0.2222222222222222,
             "#7201a8"
            ],
            [
             0.3333333333333333,
             "#9c179e"
            ],
            [
             0.4444444444444444,
             "#bd3786"
            ],
            [
             0.5555555555555556,
             "#d8576b"
            ],
            [
             0.6666666666666666,
             "#ed7953"
            ],
            [
             0.7777777777777778,
             "#fb9f3a"
            ],
            [
             0.8888888888888888,
             "#fdca26"
            ],
            [
             1,
             "#f0f921"
            ]
           ]
          },
          "colorway": [
           "#636efa",
           "#EF553B",
           "#00cc96",
           "#ab63fa",
           "#FFA15A",
           "#19d3f3",
           "#FF6692",
           "#B6E880",
           "#FF97FF",
           "#FECB52"
          ],
          "font": {
           "color": "#2a3f5f"
          },
          "geo": {
           "bgcolor": "white",
           "lakecolor": "white",
           "landcolor": "#E5ECF6",
           "showlakes": true,
           "showland": true,
           "subunitcolor": "white"
          },
          "hoverlabel": {
           "align": "left"
          },
          "hovermode": "closest",
          "mapbox": {
           "style": "light"
          },
          "paper_bgcolor": "white",
          "plot_bgcolor": "#E5ECF6",
          "polar": {
           "angularaxis": {
            "gridcolor": "white",
            "linecolor": "white",
            "ticks": ""
           },
           "bgcolor": "#E5ECF6",
           "radialaxis": {
            "gridcolor": "white",
            "linecolor": "white",
            "ticks": ""
           }
          },
          "scene": {
           "xaxis": {
            "backgroundcolor": "#E5ECF6",
            "gridcolor": "white",
            "gridwidth": 2,
            "linecolor": "white",
            "showbackground": true,
            "ticks": "",
            "zerolinecolor": "white"
           },
           "yaxis": {
            "backgroundcolor": "#E5ECF6",
            "gridcolor": "white",
            "gridwidth": 2,
            "linecolor": "white",
            "showbackground": true,
            "ticks": "",
            "zerolinecolor": "white"
           },
           "zaxis": {
            "backgroundcolor": "#E5ECF6",
            "gridcolor": "white",
            "gridwidth": 2,
            "linecolor": "white",
            "showbackground": true,
            "ticks": "",
            "zerolinecolor": "white"
           }
          },
          "shapedefaults": {
           "line": {
            "color": "#2a3f5f"
           }
          },
          "ternary": {
           "aaxis": {
            "gridcolor": "white",
            "linecolor": "white",
            "ticks": ""
           },
           "baxis": {
            "gridcolor": "white",
            "linecolor": "white",
            "ticks": ""
           },
           "bgcolor": "#E5ECF6",
           "caxis": {
            "gridcolor": "white",
            "linecolor": "white",
            "ticks": ""
           }
          },
          "title": {
           "x": 0.05
          },
          "xaxis": {
           "automargin": true,
           "gridcolor": "white",
           "linecolor": "white",
           "ticks": "",
           "title": {
            "standoff": 15
           },
           "zerolinecolor": "white",
           "zerolinewidth": 2
          },
          "yaxis": {
           "automargin": true,
           "gridcolor": "white",
           "linecolor": "white",
           "ticks": "",
           "title": {
            "standoff": 15
           },
           "zerolinecolor": "white",
           "zerolinewidth": 2
          }
         }
        },
        "title": {
         "text": "Montants subventions 2022 par financeur sur le territoire de la Ville de Lyon"
        },
        "uniformtext": {
         "minsize": 8,
         "mode": "hide"
        },
        "xaxis": {
         "anchor": "y",
         "domain": [
          0,
          1
         ],
         "title": {
          "text": "Montant"
         }
        },
        "yaxis": {
         "anchor": "x",
         "categoryarray": [
          "Métropole de Lyon (Budget principal)",
          "Commune de Lyon",
          "Etat"
         ],
         "categoryorder": "array",
         "domain": [
          0,
          1
         ],
         "title": {
          "text": "Financeur"
         }
        }
       }
      }
     },
     "metadata": {},
     "output_type": "display_data"
    }
   ],
   "source": [
    "#Graphique à barres empliées du nombre de déchets par type\n",
    "\n",
    "fig = px.bar(df_financeur_global.sort_values(by = \"Montant\", ascending = False), x = \"Montant\", y=\"Financeur\", \n",
    "             color=\"Financeur\",\n",
    "             barmode = 'stack',\n",
    "             text = \"Montant_2\",\n",
    "             title = \"Montants subventions 2022 par financeur sur le territoire de la Ville de Lyon\")\n",
    "fig.update_traces(textposition=\"inside\")\n",
    "fig.update_layout(\n",
    "    autosize=True,\n",
    "    uniformtext_minsize=8,\n",
    "    uniformtext_mode=\"hide\",\n",
    "    showlegend=False,\n",
    ")\n",
    "fig.show()"
   ]
  },
  {
   "cell_type": "code",
   "execution_count": 107,
   "metadata": {},
   "outputs": [
    {
     "data": {
      "application/vnd.plotly.v1+json": {
       "config": {
        "plotlyServerURL": "https://plot.ly"
       },
       "data": [
        {
         "alignmentgroup": "True",
         "hovertemplate": "Financeur=%{y}<br>Bénéficiaire=%{text}<extra></extra>",
         "legendgroup": "Commune de Lyon",
         "marker": {
          "color": "#636efa",
          "pattern": {
           "shape": ""
          }
         },
         "name": "Commune de Lyon",
         "offsetgroup": "Commune de Lyon",
         "orientation": "h",
         "showlegend": true,
         "text": [
          1389
         ],
         "textposition": "inside",
         "type": "bar",
         "x": [
          1389
         ],
         "xaxis": "x",
         "y": [
          "Commune de Lyon"
         ],
         "yaxis": "y"
        },
        {
         "alignmentgroup": "True",
         "hovertemplate": "Financeur=%{y}<br>Bénéficiaire=%{text}<extra></extra>",
         "legendgroup": "Etat",
         "marker": {
          "color": "#EF553B",
          "pattern": {
           "shape": ""
          }
         },
         "name": "Etat",
         "offsetgroup": "Etat",
         "orientation": "h",
         "showlegend": true,
         "text": [
          870
         ],
         "textposition": "inside",
         "type": "bar",
         "x": [
          870
         ],
         "xaxis": "x",
         "y": [
          "Etat"
         ],
         "yaxis": "y"
        },
        {
         "alignmentgroup": "True",
         "hovertemplate": "Financeur=%{y}<br>Bénéficiaire=%{text}<extra></extra>",
         "legendgroup": "Métropole de Lyon (Budget principal)",
         "marker": {
          "color": "#00cc96",
          "pattern": {
           "shape": ""
          }
         },
         "name": "Métropole de Lyon (Budget principal)",
         "offsetgroup": "Métropole de Lyon (Budget principal)",
         "orientation": "h",
         "showlegend": true,
         "text": [
          412
         ],
         "textposition": "inside",
         "type": "bar",
         "x": [
          412
         ],
         "xaxis": "x",
         "y": [
          "Métropole de Lyon (Budget principal)"
         ],
         "yaxis": "y"
        }
       ],
       "layout": {
        "autosize": true,
        "barmode": "stack",
        "legend": {
         "title": {
          "text": "Financeur"
         },
         "tracegroupgap": 0
        },
        "showlegend": false,
        "template": {
         "data": {
          "bar": [
           {
            "error_x": {
             "color": "#2a3f5f"
            },
            "error_y": {
             "color": "#2a3f5f"
            },
            "marker": {
             "line": {
              "color": "#E5ECF6",
              "width": 0.5
             },
             "pattern": {
              "fillmode": "overlay",
              "size": 10,
              "solidity": 0.2
             }
            },
            "type": "bar"
           }
          ],
          "barpolar": [
           {
            "marker": {
             "line": {
              "color": "#E5ECF6",
              "width": 0.5
             },
             "pattern": {
              "fillmode": "overlay",
              "size": 10,
              "solidity": 0.2
             }
            },
            "type": "barpolar"
           }
          ],
          "carpet": [
           {
            "aaxis": {
             "endlinecolor": "#2a3f5f",
             "gridcolor": "white",
             "linecolor": "white",
             "minorgridcolor": "white",
             "startlinecolor": "#2a3f5f"
            },
            "baxis": {
             "endlinecolor": "#2a3f5f",
             "gridcolor": "white",
             "linecolor": "white",
             "minorgridcolor": "white",
             "startlinecolor": "#2a3f5f"
            },
            "type": "carpet"
           }
          ],
          "choropleth": [
           {
            "colorbar": {
             "outlinewidth": 0,
             "ticks": ""
            },
            "type": "choropleth"
           }
          ],
          "contour": [
           {
            "colorbar": {
             "outlinewidth": 0,
             "ticks": ""
            },
            "colorscale": [
             [
              0,
              "#0d0887"
             ],
             [
              0.1111111111111111,
              "#46039f"
             ],
             [
              0.2222222222222222,
              "#7201a8"
             ],
             [
              0.3333333333333333,
              "#9c179e"
             ],
             [
              0.4444444444444444,
              "#bd3786"
             ],
             [
              0.5555555555555556,
              "#d8576b"
             ],
             [
              0.6666666666666666,
              "#ed7953"
             ],
             [
              0.7777777777777778,
              "#fb9f3a"
             ],
             [
              0.8888888888888888,
              "#fdca26"
             ],
             [
              1,
              "#f0f921"
             ]
            ],
            "type": "contour"
           }
          ],
          "contourcarpet": [
           {
            "colorbar": {
             "outlinewidth": 0,
             "ticks": ""
            },
            "type": "contourcarpet"
           }
          ],
          "heatmap": [
           {
            "colorbar": {
             "outlinewidth": 0,
             "ticks": ""
            },
            "colorscale": [
             [
              0,
              "#0d0887"
             ],
             [
              0.1111111111111111,
              "#46039f"
             ],
             [
              0.2222222222222222,
              "#7201a8"
             ],
             [
              0.3333333333333333,
              "#9c179e"
             ],
             [
              0.4444444444444444,
              "#bd3786"
             ],
             [
              0.5555555555555556,
              "#d8576b"
             ],
             [
              0.6666666666666666,
              "#ed7953"
             ],
             [
              0.7777777777777778,
              "#fb9f3a"
             ],
             [
              0.8888888888888888,
              "#fdca26"
             ],
             [
              1,
              "#f0f921"
             ]
            ],
            "type": "heatmap"
           }
          ],
          "heatmapgl": [
           {
            "colorbar": {
             "outlinewidth": 0,
             "ticks": ""
            },
            "colorscale": [
             [
              0,
              "#0d0887"
             ],
             [
              0.1111111111111111,
              "#46039f"
             ],
             [
              0.2222222222222222,
              "#7201a8"
             ],
             [
              0.3333333333333333,
              "#9c179e"
             ],
             [
              0.4444444444444444,
              "#bd3786"
             ],
             [
              0.5555555555555556,
              "#d8576b"
             ],
             [
              0.6666666666666666,
              "#ed7953"
             ],
             [
              0.7777777777777778,
              "#fb9f3a"
             ],
             [
              0.8888888888888888,
              "#fdca26"
             ],
             [
              1,
              "#f0f921"
             ]
            ],
            "type": "heatmapgl"
           }
          ],
          "histogram": [
           {
            "marker": {
             "pattern": {
              "fillmode": "overlay",
              "size": 10,
              "solidity": 0.2
             }
            },
            "type": "histogram"
           }
          ],
          "histogram2d": [
           {
            "colorbar": {
             "outlinewidth": 0,
             "ticks": ""
            },
            "colorscale": [
             [
              0,
              "#0d0887"
             ],
             [
              0.1111111111111111,
              "#46039f"
             ],
             [
              0.2222222222222222,
              "#7201a8"
             ],
             [
              0.3333333333333333,
              "#9c179e"
             ],
             [
              0.4444444444444444,
              "#bd3786"
             ],
             [
              0.5555555555555556,
              "#d8576b"
             ],
             [
              0.6666666666666666,
              "#ed7953"
             ],
             [
              0.7777777777777778,
              "#fb9f3a"
             ],
             [
              0.8888888888888888,
              "#fdca26"
             ],
             [
              1,
              "#f0f921"
             ]
            ],
            "type": "histogram2d"
           }
          ],
          "histogram2dcontour": [
           {
            "colorbar": {
             "outlinewidth": 0,
             "ticks": ""
            },
            "colorscale": [
             [
              0,
              "#0d0887"
             ],
             [
              0.1111111111111111,
              "#46039f"
             ],
             [
              0.2222222222222222,
              "#7201a8"
             ],
             [
              0.3333333333333333,
              "#9c179e"
             ],
             [
              0.4444444444444444,
              "#bd3786"
             ],
             [
              0.5555555555555556,
              "#d8576b"
             ],
             [
              0.6666666666666666,
              "#ed7953"
             ],
             [
              0.7777777777777778,
              "#fb9f3a"
             ],
             [
              0.8888888888888888,
              "#fdca26"
             ],
             [
              1,
              "#f0f921"
             ]
            ],
            "type": "histogram2dcontour"
           }
          ],
          "mesh3d": [
           {
            "colorbar": {
             "outlinewidth": 0,
             "ticks": ""
            },
            "type": "mesh3d"
           }
          ],
          "parcoords": [
           {
            "line": {
             "colorbar": {
              "outlinewidth": 0,
              "ticks": ""
             }
            },
            "type": "parcoords"
           }
          ],
          "pie": [
           {
            "automargin": true,
            "type": "pie"
           }
          ],
          "scatter": [
           {
            "fillpattern": {
             "fillmode": "overlay",
             "size": 10,
             "solidity": 0.2
            },
            "type": "scatter"
           }
          ],
          "scatter3d": [
           {
            "line": {
             "colorbar": {
              "outlinewidth": 0,
              "ticks": ""
             }
            },
            "marker": {
             "colorbar": {
              "outlinewidth": 0,
              "ticks": ""
             }
            },
            "type": "scatter3d"
           }
          ],
          "scattercarpet": [
           {
            "marker": {
             "colorbar": {
              "outlinewidth": 0,
              "ticks": ""
             }
            },
            "type": "scattercarpet"
           }
          ],
          "scattergeo": [
           {
            "marker": {
             "colorbar": {
              "outlinewidth": 0,
              "ticks": ""
             }
            },
            "type": "scattergeo"
           }
          ],
          "scattergl": [
           {
            "marker": {
             "colorbar": {
              "outlinewidth": 0,
              "ticks": ""
             }
            },
            "type": "scattergl"
           }
          ],
          "scattermapbox": [
           {
            "marker": {
             "colorbar": {
              "outlinewidth": 0,
              "ticks": ""
             }
            },
            "type": "scattermapbox"
           }
          ],
          "scatterpolar": [
           {
            "marker": {
             "colorbar": {
              "outlinewidth": 0,
              "ticks": ""
             }
            },
            "type": "scatterpolar"
           }
          ],
          "scatterpolargl": [
           {
            "marker": {
             "colorbar": {
              "outlinewidth": 0,
              "ticks": ""
             }
            },
            "type": "scatterpolargl"
           }
          ],
          "scatterternary": [
           {
            "marker": {
             "colorbar": {
              "outlinewidth": 0,
              "ticks": ""
             }
            },
            "type": "scatterternary"
           }
          ],
          "surface": [
           {
            "colorbar": {
             "outlinewidth": 0,
             "ticks": ""
            },
            "colorscale": [
             [
              0,
              "#0d0887"
             ],
             [
              0.1111111111111111,
              "#46039f"
             ],
             [
              0.2222222222222222,
              "#7201a8"
             ],
             [
              0.3333333333333333,
              "#9c179e"
             ],
             [
              0.4444444444444444,
              "#bd3786"
             ],
             [
              0.5555555555555556,
              "#d8576b"
             ],
             [
              0.6666666666666666,
              "#ed7953"
             ],
             [
              0.7777777777777778,
              "#fb9f3a"
             ],
             [
              0.8888888888888888,
              "#fdca26"
             ],
             [
              1,
              "#f0f921"
             ]
            ],
            "type": "surface"
           }
          ],
          "table": [
           {
            "cells": {
             "fill": {
              "color": "#EBF0F8"
             },
             "line": {
              "color": "white"
             }
            },
            "header": {
             "fill": {
              "color": "#C8D4E3"
             },
             "line": {
              "color": "white"
             }
            },
            "type": "table"
           }
          ]
         },
         "layout": {
          "annotationdefaults": {
           "arrowcolor": "#2a3f5f",
           "arrowhead": 0,
           "arrowwidth": 1
          },
          "autotypenumbers": "strict",
          "coloraxis": {
           "colorbar": {
            "outlinewidth": 0,
            "ticks": ""
           }
          },
          "colorscale": {
           "diverging": [
            [
             0,
             "#8e0152"
            ],
            [
             0.1,
             "#c51b7d"
            ],
            [
             0.2,
             "#de77ae"
            ],
            [
             0.3,
             "#f1b6da"
            ],
            [
             0.4,
             "#fde0ef"
            ],
            [
             0.5,
             "#f7f7f7"
            ],
            [
             0.6,
             "#e6f5d0"
            ],
            [
             0.7,
             "#b8e186"
            ],
            [
             0.8,
             "#7fbc41"
            ],
            [
             0.9,
             "#4d9221"
            ],
            [
             1,
             "#276419"
            ]
           ],
           "sequential": [
            [
             0,
             "#0d0887"
            ],
            [
             0.1111111111111111,
             "#46039f"
            ],
            [
             0.2222222222222222,
             "#7201a8"
            ],
            [
             0.3333333333333333,
             "#9c179e"
            ],
            [
             0.4444444444444444,
             "#bd3786"
            ],
            [
             0.5555555555555556,
             "#d8576b"
            ],
            [
             0.6666666666666666,
             "#ed7953"
            ],
            [
             0.7777777777777778,
             "#fb9f3a"
            ],
            [
             0.8888888888888888,
             "#fdca26"
            ],
            [
             1,
             "#f0f921"
            ]
           ],
           "sequentialminus": [
            [
             0,
             "#0d0887"
            ],
            [
             0.1111111111111111,
             "#46039f"
            ],
            [
             0.2222222222222222,
             "#7201a8"
            ],
            [
             0.3333333333333333,
             "#9c179e"
            ],
            [
             0.4444444444444444,
             "#bd3786"
            ],
            [
             0.5555555555555556,
             "#d8576b"
            ],
            [
             0.6666666666666666,
             "#ed7953"
            ],
            [
             0.7777777777777778,
             "#fb9f3a"
            ],
            [
             0.8888888888888888,
             "#fdca26"
            ],
            [
             1,
             "#f0f921"
            ]
           ]
          },
          "colorway": [
           "#636efa",
           "#EF553B",
           "#00cc96",
           "#ab63fa",
           "#FFA15A",
           "#19d3f3",
           "#FF6692",
           "#B6E880",
           "#FF97FF",
           "#FECB52"
          ],
          "font": {
           "color": "#2a3f5f"
          },
          "geo": {
           "bgcolor": "white",
           "lakecolor": "white",
           "landcolor": "#E5ECF6",
           "showlakes": true,
           "showland": true,
           "subunitcolor": "white"
          },
          "hoverlabel": {
           "align": "left"
          },
          "hovermode": "closest",
          "mapbox": {
           "style": "light"
          },
          "paper_bgcolor": "white",
          "plot_bgcolor": "#E5ECF6",
          "polar": {
           "angularaxis": {
            "gridcolor": "white",
            "linecolor": "white",
            "ticks": ""
           },
           "bgcolor": "#E5ECF6",
           "radialaxis": {
            "gridcolor": "white",
            "linecolor": "white",
            "ticks": ""
           }
          },
          "scene": {
           "xaxis": {
            "backgroundcolor": "#E5ECF6",
            "gridcolor": "white",
            "gridwidth": 2,
            "linecolor": "white",
            "showbackground": true,
            "ticks": "",
            "zerolinecolor": "white"
           },
           "yaxis": {
            "backgroundcolor": "#E5ECF6",
            "gridcolor": "white",
            "gridwidth": 2,
            "linecolor": "white",
            "showbackground": true,
            "ticks": "",
            "zerolinecolor": "white"
           },
           "zaxis": {
            "backgroundcolor": "#E5ECF6",
            "gridcolor": "white",
            "gridwidth": 2,
            "linecolor": "white",
            "showbackground": true,
            "ticks": "",
            "zerolinecolor": "white"
           }
          },
          "shapedefaults": {
           "line": {
            "color": "#2a3f5f"
           }
          },
          "ternary": {
           "aaxis": {
            "gridcolor": "white",
            "linecolor": "white",
            "ticks": ""
           },
           "baxis": {
            "gridcolor": "white",
            "linecolor": "white",
            "ticks": ""
           },
           "bgcolor": "#E5ECF6",
           "caxis": {
            "gridcolor": "white",
            "linecolor": "white",
            "ticks": ""
           }
          },
          "title": {
           "x": 0.05
          },
          "xaxis": {
           "automargin": true,
           "gridcolor": "white",
           "linecolor": "white",
           "ticks": "",
           "title": {
            "standoff": 15
           },
           "zerolinecolor": "white",
           "zerolinewidth": 2
          },
          "yaxis": {
           "automargin": true,
           "gridcolor": "white",
           "linecolor": "white",
           "ticks": "",
           "title": {
            "standoff": 15
           },
           "zerolinecolor": "white",
           "zerolinewidth": 2
          }
         }
        },
        "title": {
         "text": "Nombre de bénéficiaires subventionnés en 2022 par financeur sur le territoire de la Ville de Lyon"
        },
        "uniformtext": {
         "minsize": 8,
         "mode": "hide"
        },
        "xaxis": {
         "anchor": "y",
         "domain": [
          0,
          1
         ],
         "title": {
          "text": "Nombre de structures bénéficiaires"
         }
        },
        "yaxis": {
         "anchor": "x",
         "categoryarray": [
          "Métropole de Lyon (Budget principal)",
          "Etat",
          "Commune de Lyon"
         ],
         "categoryorder": "array",
         "domain": [
          0,
          1
         ],
         "title": {
          "text": "Financeur"
         }
        }
       }
      }
     },
     "metadata": {},
     "output_type": "display_data"
    }
   ],
   "source": [
    "\n",
    "fig = px.bar(df_financeur_global.sort_values(by = \"Bénéficiaire\", ascending = False), x = \"Bénéficiaire\", y=\"Financeur\", \n",
    "             color=\"Financeur\",\n",
    "             barmode = 'stack',\n",
    "             text = \"Bénéficiaire\",\n",
    "             title = \"Nombre de bénéficiaires subventionnés en 2022 par financeur sur le territoire de la Ville de Lyon\")\n",
    "fig.update_traces(textposition=\"inside\")\n",
    "fig.update_layout(\n",
    "    autosize=True,\n",
    "    uniformtext_minsize=8,\n",
    "    uniformtext_mode=\"hide\",\n",
    "    showlegend=False,\n",
    "    xaxis_title=\"Nombre de structures bénéficiaires\"\n",
    ")\n",
    "fig.show()"
   ]
  },
  {
   "cell_type": "code",
   "execution_count": 135,
   "metadata": {},
   "outputs": [],
   "source": [
    "len(df_financeur_benef)\n",
    "df_financeur_benef[\"Bénéficiaire\"].nunique()\n",
    "top20 = df_financeur_benef.sort_values(by = \"Montant\", ascending = False).reset_index()[:20]"
   ]
  },
  {
   "cell_type": "code",
   "execution_count": 137,
   "metadata": {},
   "outputs": [
    {
     "name": "stdout",
     "output_type": "stream",
     "text": [
      "<class 'pandas.core.frame.DataFrame'>\n",
      "RangeIndex: 20 entries, 0 to 19\n",
      "Data columns (total 4 columns):\n",
      " #   Column        Non-Null Count  Dtype  \n",
      "---  ------        --------------  -----  \n",
      " 0   index         20 non-null     int64  \n",
      " 1   Financeur     20 non-null     object \n",
      " 2   Bénéficiaire  20 non-null     object \n",
      " 3   Montant       20 non-null     float64\n",
      "dtypes: float64(1), int64(1), object(2)\n",
      "memory usage: 768.0+ bytes\n"
     ]
    }
   ],
   "source": [
    "top20.info()"
   ]
  },
  {
   "cell_type": "code",
   "execution_count": 138,
   "metadata": {},
   "outputs": [
    {
     "data": {
      "application/vnd.plotly.v1+json": {
       "config": {
        "plotlyServerURL": "https://plot.ly"
       },
       "data": [
        {
         "alignmentgroup": "True",
         "hovertemplate": "Montant=%{x}<br>Bénéficiaire=%{y}<extra></extra>",
         "legendgroup": "",
         "marker": {
          "color": "#636efa",
          "pattern": {
           "shape": ""
          }
         },
         "name": "",
         "offsetgroup": "",
         "orientation": "h",
         "showlegend": false,
         "textposition": "auto",
         "type": "bar",
         "x": [
          17573989.72,
          15231489.84,
          12493087.8,
          9922153.96,
          9782896.2,
          7925000,
          6063476,
          5702212.73,
          5325436,
          4769385.279999999,
          4716136.78,
          4203531.93,
          3839415,
          3822561.66,
          3809784,
          3738460,
          3713299.14,
          3394350,
          3363501.5,
          3313296.8
         ],
         "xaxis": "x",
         "y": [
          "OPERA NATIONAL DE LYON",
          "FOYER NOTRE DAME DES SANS ABRI",
          "FONDATION DE L ARMEE DU SALUT",
          "ASSOCIATION LE MAS",
          "ASS HABITAT HUMANISME RHONE",
          "ORGANISME DE FONCIER SOLIDAIRE DE LA METROPOLE DE LYON",
          "OPERA DE LYON",
          "FONDATION ARALIS",
          "ASSOCIATION FEDERATION HANDICAP INTERNATIONAL",
          "OFF TOURISME BUREAU CONGRES GRAND LYON",
          "COMITE SOCIAL DU PERSONNEL DE LA METROPOLE LYONNAISE DE SES COLLECTIVI",
          "ASSOCIATION DES FONDATEURS ET PROTECTEURS DE L INSTITUT CATHOLIQUE DE LYON",
          "HANDICAP INTERNATIONAL FRANCE",
          "ASSOCIATION DE L HOTEL SOCIAL",
          "I S A R A",
          "TRIANGLE GENERATION HUMANITAIRE",
          "ACOLEA",
          "A D E R L Y",
          "MISSION LOCALE DE LYON",
          "AJD MAURICE GOUNON"
         ],
         "yaxis": "y"
        }
       ],
       "layout": {
        "barmode": "stack",
        "legend": {
         "tracegroupgap": 0
        },
        "margin": {
         "t": 60
        },
        "template": {
         "data": {
          "bar": [
           {
            "error_x": {
             "color": "#2a3f5f"
            },
            "error_y": {
             "color": "#2a3f5f"
            },
            "marker": {
             "line": {
              "color": "#E5ECF6",
              "width": 0.5
             },
             "pattern": {
              "fillmode": "overlay",
              "size": 10,
              "solidity": 0.2
             }
            },
            "type": "bar"
           }
          ],
          "barpolar": [
           {
            "marker": {
             "line": {
              "color": "#E5ECF6",
              "width": 0.5
             },
             "pattern": {
              "fillmode": "overlay",
              "size": 10,
              "solidity": 0.2
             }
            },
            "type": "barpolar"
           }
          ],
          "carpet": [
           {
            "aaxis": {
             "endlinecolor": "#2a3f5f",
             "gridcolor": "white",
             "linecolor": "white",
             "minorgridcolor": "white",
             "startlinecolor": "#2a3f5f"
            },
            "baxis": {
             "endlinecolor": "#2a3f5f",
             "gridcolor": "white",
             "linecolor": "white",
             "minorgridcolor": "white",
             "startlinecolor": "#2a3f5f"
            },
            "type": "carpet"
           }
          ],
          "choropleth": [
           {
            "colorbar": {
             "outlinewidth": 0,
             "ticks": ""
            },
            "type": "choropleth"
           }
          ],
          "contour": [
           {
            "colorbar": {
             "outlinewidth": 0,
             "ticks": ""
            },
            "colorscale": [
             [
              0,
              "#0d0887"
             ],
             [
              0.1111111111111111,
              "#46039f"
             ],
             [
              0.2222222222222222,
              "#7201a8"
             ],
             [
              0.3333333333333333,
              "#9c179e"
             ],
             [
              0.4444444444444444,
              "#bd3786"
             ],
             [
              0.5555555555555556,
              "#d8576b"
             ],
             [
              0.6666666666666666,
              "#ed7953"
             ],
             [
              0.7777777777777778,
              "#fb9f3a"
             ],
             [
              0.8888888888888888,
              "#fdca26"
             ],
             [
              1,
              "#f0f921"
             ]
            ],
            "type": "contour"
           }
          ],
          "contourcarpet": [
           {
            "colorbar": {
             "outlinewidth": 0,
             "ticks": ""
            },
            "type": "contourcarpet"
           }
          ],
          "heatmap": [
           {
            "colorbar": {
             "outlinewidth": 0,
             "ticks": ""
            },
            "colorscale": [
             [
              0,
              "#0d0887"
             ],
             [
              0.1111111111111111,
              "#46039f"
             ],
             [
              0.2222222222222222,
              "#7201a8"
             ],
             [
              0.3333333333333333,
              "#9c179e"
             ],
             [
              0.4444444444444444,
              "#bd3786"
             ],
             [
              0.5555555555555556,
              "#d8576b"
             ],
             [
              0.6666666666666666,
              "#ed7953"
             ],
             [
              0.7777777777777778,
              "#fb9f3a"
             ],
             [
              0.8888888888888888,
              "#fdca26"
             ],
             [
              1,
              "#f0f921"
             ]
            ],
            "type": "heatmap"
           }
          ],
          "heatmapgl": [
           {
            "colorbar": {
             "outlinewidth": 0,
             "ticks": ""
            },
            "colorscale": [
             [
              0,
              "#0d0887"
             ],
             [
              0.1111111111111111,
              "#46039f"
             ],
             [
              0.2222222222222222,
              "#7201a8"
             ],
             [
              0.3333333333333333,
              "#9c179e"
             ],
             [
              0.4444444444444444,
              "#bd3786"
             ],
             [
              0.5555555555555556,
              "#d8576b"
             ],
             [
              0.6666666666666666,
              "#ed7953"
             ],
             [
              0.7777777777777778,
              "#fb9f3a"
             ],
             [
              0.8888888888888888,
              "#fdca26"
             ],
             [
              1,
              "#f0f921"
             ]
            ],
            "type": "heatmapgl"
           }
          ],
          "histogram": [
           {
            "marker": {
             "pattern": {
              "fillmode": "overlay",
              "size": 10,
              "solidity": 0.2
             }
            },
            "type": "histogram"
           }
          ],
          "histogram2d": [
           {
            "colorbar": {
             "outlinewidth": 0,
             "ticks": ""
            },
            "colorscale": [
             [
              0,
              "#0d0887"
             ],
             [
              0.1111111111111111,
              "#46039f"
             ],
             [
              0.2222222222222222,
              "#7201a8"
             ],
             [
              0.3333333333333333,
              "#9c179e"
             ],
             [
              0.4444444444444444,
              "#bd3786"
             ],
             [
              0.5555555555555556,
              "#d8576b"
             ],
             [
              0.6666666666666666,
              "#ed7953"
             ],
             [
              0.7777777777777778,
              "#fb9f3a"
             ],
             [
              0.8888888888888888,
              "#fdca26"
             ],
             [
              1,
              "#f0f921"
             ]
            ],
            "type": "histogram2d"
           }
          ],
          "histogram2dcontour": [
           {
            "colorbar": {
             "outlinewidth": 0,
             "ticks": ""
            },
            "colorscale": [
             [
              0,
              "#0d0887"
             ],
             [
              0.1111111111111111,
              "#46039f"
             ],
             [
              0.2222222222222222,
              "#7201a8"
             ],
             [
              0.3333333333333333,
              "#9c179e"
             ],
             [
              0.4444444444444444,
              "#bd3786"
             ],
             [
              0.5555555555555556,
              "#d8576b"
             ],
             [
              0.6666666666666666,
              "#ed7953"
             ],
             [
              0.7777777777777778,
              "#fb9f3a"
             ],
             [
              0.8888888888888888,
              "#fdca26"
             ],
             [
              1,
              "#f0f921"
             ]
            ],
            "type": "histogram2dcontour"
           }
          ],
          "mesh3d": [
           {
            "colorbar": {
             "outlinewidth": 0,
             "ticks": ""
            },
            "type": "mesh3d"
           }
          ],
          "parcoords": [
           {
            "line": {
             "colorbar": {
              "outlinewidth": 0,
              "ticks": ""
             }
            },
            "type": "parcoords"
           }
          ],
          "pie": [
           {
            "automargin": true,
            "type": "pie"
           }
          ],
          "scatter": [
           {
            "fillpattern": {
             "fillmode": "overlay",
             "size": 10,
             "solidity": 0.2
            },
            "type": "scatter"
           }
          ],
          "scatter3d": [
           {
            "line": {
             "colorbar": {
              "outlinewidth": 0,
              "ticks": ""
             }
            },
            "marker": {
             "colorbar": {
              "outlinewidth": 0,
              "ticks": ""
             }
            },
            "type": "scatter3d"
           }
          ],
          "scattercarpet": [
           {
            "marker": {
             "colorbar": {
              "outlinewidth": 0,
              "ticks": ""
             }
            },
            "type": "scattercarpet"
           }
          ],
          "scattergeo": [
           {
            "marker": {
             "colorbar": {
              "outlinewidth": 0,
              "ticks": ""
             }
            },
            "type": "scattergeo"
           }
          ],
          "scattergl": [
           {
            "marker": {
             "colorbar": {
              "outlinewidth": 0,
              "ticks": ""
             }
            },
            "type": "scattergl"
           }
          ],
          "scattermapbox": [
           {
            "marker": {
             "colorbar": {
              "outlinewidth": 0,
              "ticks": ""
             }
            },
            "type": "scattermapbox"
           }
          ],
          "scatterpolar": [
           {
            "marker": {
             "colorbar": {
              "outlinewidth": 0,
              "ticks": ""
             }
            },
            "type": "scatterpolar"
           }
          ],
          "scatterpolargl": [
           {
            "marker": {
             "colorbar": {
              "outlinewidth": 0,
              "ticks": ""
             }
            },
            "type": "scatterpolargl"
           }
          ],
          "scatterternary": [
           {
            "marker": {
             "colorbar": {
              "outlinewidth": 0,
              "ticks": ""
             }
            },
            "type": "scatterternary"
           }
          ],
          "surface": [
           {
            "colorbar": {
             "outlinewidth": 0,
             "ticks": ""
            },
            "colorscale": [
             [
              0,
              "#0d0887"
             ],
             [
              0.1111111111111111,
              "#46039f"
             ],
             [
              0.2222222222222222,
              "#7201a8"
             ],
             [
              0.3333333333333333,
              "#9c179e"
             ],
             [
              0.4444444444444444,
              "#bd3786"
             ],
             [
              0.5555555555555556,
              "#d8576b"
             ],
             [
              0.6666666666666666,
              "#ed7953"
             ],
             [
              0.7777777777777778,
              "#fb9f3a"
             ],
             [
              0.8888888888888888,
              "#fdca26"
             ],
             [
              1,
              "#f0f921"
             ]
            ],
            "type": "surface"
           }
          ],
          "table": [
           {
            "cells": {
             "fill": {
              "color": "#EBF0F8"
             },
             "line": {
              "color": "white"
             }
            },
            "header": {
             "fill": {
              "color": "#C8D4E3"
             },
             "line": {
              "color": "white"
             }
            },
            "type": "table"
           }
          ]
         },
         "layout": {
          "annotationdefaults": {
           "arrowcolor": "#2a3f5f",
           "arrowhead": 0,
           "arrowwidth": 1
          },
          "autotypenumbers": "strict",
          "coloraxis": {
           "colorbar": {
            "outlinewidth": 0,
            "ticks": ""
           }
          },
          "colorscale": {
           "diverging": [
            [
             0,
             "#8e0152"
            ],
            [
             0.1,
             "#c51b7d"
            ],
            [
             0.2,
             "#de77ae"
            ],
            [
             0.3,
             "#f1b6da"
            ],
            [
             0.4,
             "#fde0ef"
            ],
            [
             0.5,
             "#f7f7f7"
            ],
            [
             0.6,
             "#e6f5d0"
            ],
            [
             0.7,
             "#b8e186"
            ],
            [
             0.8,
             "#7fbc41"
            ],
            [
             0.9,
             "#4d9221"
            ],
            [
             1,
             "#276419"
            ]
           ],
           "sequential": [
            [
             0,
             "#0d0887"
            ],
            [
             0.1111111111111111,
             "#46039f"
            ],
            [
             0.2222222222222222,
             "#7201a8"
            ],
            [
             0.3333333333333333,
             "#9c179e"
            ],
            [
             0.4444444444444444,
             "#bd3786"
            ],
            [
             0.5555555555555556,
             "#d8576b"
            ],
            [
             0.6666666666666666,
             "#ed7953"
            ],
            [
             0.7777777777777778,
             "#fb9f3a"
            ],
            [
             0.8888888888888888,
             "#fdca26"
            ],
            [
             1,
             "#f0f921"
            ]
           ],
           "sequentialminus": [
            [
             0,
             "#0d0887"
            ],
            [
             0.1111111111111111,
             "#46039f"
            ],
            [
             0.2222222222222222,
             "#7201a8"
            ],
            [
             0.3333333333333333,
             "#9c179e"
            ],
            [
             0.4444444444444444,
             "#bd3786"
            ],
            [
             0.5555555555555556,
             "#d8576b"
            ],
            [
             0.6666666666666666,
             "#ed7953"
            ],
            [
             0.7777777777777778,
             "#fb9f3a"
            ],
            [
             0.8888888888888888,
             "#fdca26"
            ],
            [
             1,
             "#f0f921"
            ]
           ]
          },
          "colorway": [
           "#636efa",
           "#EF553B",
           "#00cc96",
           "#ab63fa",
           "#FFA15A",
           "#19d3f3",
           "#FF6692",
           "#B6E880",
           "#FF97FF",
           "#FECB52"
          ],
          "font": {
           "color": "#2a3f5f"
          },
          "geo": {
           "bgcolor": "white",
           "lakecolor": "white",
           "landcolor": "#E5ECF6",
           "showlakes": true,
           "showland": true,
           "subunitcolor": "white"
          },
          "hoverlabel": {
           "align": "left"
          },
          "hovermode": "closest",
          "mapbox": {
           "style": "light"
          },
          "paper_bgcolor": "white",
          "plot_bgcolor": "#E5ECF6",
          "polar": {
           "angularaxis": {
            "gridcolor": "white",
            "linecolor": "white",
            "ticks": ""
           },
           "bgcolor": "#E5ECF6",
           "radialaxis": {
            "gridcolor": "white",
            "linecolor": "white",
            "ticks": ""
           }
          },
          "scene": {
           "xaxis": {
            "backgroundcolor": "#E5ECF6",
            "gridcolor": "white",
            "gridwidth": 2,
            "linecolor": "white",
            "showbackground": true,
            "ticks": "",
            "zerolinecolor": "white"
           },
           "yaxis": {
            "backgroundcolor": "#E5ECF6",
            "gridcolor": "white",
            "gridwidth": 2,
            "linecolor": "white",
            "showbackground": true,
            "ticks": "",
            "zerolinecolor": "white"
           },
           "zaxis": {
            "backgroundcolor": "#E5ECF6",
            "gridcolor": "white",
            "gridwidth": 2,
            "linecolor": "white",
            "showbackground": true,
            "ticks": "",
            "zerolinecolor": "white"
           }
          },
          "shapedefaults": {
           "line": {
            "color": "#2a3f5f"
           }
          },
          "ternary": {
           "aaxis": {
            "gridcolor": "white",
            "linecolor": "white",
            "ticks": ""
           },
           "baxis": {
            "gridcolor": "white",
            "linecolor": "white",
            "ticks": ""
           },
           "bgcolor": "#E5ECF6",
           "caxis": {
            "gridcolor": "white",
            "linecolor": "white",
            "ticks": ""
           }
          },
          "title": {
           "x": 0.05
          },
          "xaxis": {
           "automargin": true,
           "gridcolor": "white",
           "linecolor": "white",
           "ticks": "",
           "title": {
            "standoff": 15
           },
           "zerolinecolor": "white",
           "zerolinewidth": 2
          },
          "yaxis": {
           "automargin": true,
           "gridcolor": "white",
           "linecolor": "white",
           "ticks": "",
           "title": {
            "standoff": 15
           },
           "zerolinecolor": "white",
           "zerolinewidth": 2
          }
         }
        },
        "xaxis": {
         "anchor": "y",
         "domain": [
          0,
          1
         ],
         "title": {
          "text": "Montant"
         }
        },
        "yaxis": {
         "anchor": "x",
         "domain": [
          0,
          1
         ],
         "title": {
          "text": "Bénéficiaire"
         }
        }
       }
      }
     },
     "metadata": {},
     "output_type": "display_data"
    }
   ],
   "source": [
    "#Top structures subventionnées\n",
    "fig = px.bar(top20, x=\"Montant\", y=\"Bénéficiaire\",\n",
    "        barmode = 'stack'\n",
    ")\n",
    " \n",
    "fig.show()\n"
   ]
  },
  {
   "cell_type": "code",
   "execution_count": 107,
   "metadata": {},
   "outputs": [],
   "source": [
    "df_total = pd.read_parquet(\n",
    "    os.path.join(PATH, \"data\", \"base_consolidee.parquet\")\n",
    ")"
   ]
  },
  {
   "cell_type": "code",
   "execution_count": 108,
   "metadata": {},
   "outputs": [
    {
     "data": {
      "text/html": [
       "<div>\n",
       "<style scoped>\n",
       "    .dataframe tbody tr th:only-of-type {\n",
       "        vertical-align: middle;\n",
       "    }\n",
       "\n",
       "    .dataframe tbody tr th {\n",
       "        vertical-align: top;\n",
       "    }\n",
       "\n",
       "    .dataframe thead th {\n",
       "        text-align: right;\n",
       "    }\n",
       "</style>\n",
       "<table border=\"1\" class=\"dataframe\">\n",
       "  <thead>\n",
       "    <tr style=\"text-align: right;\">\n",
       "      <th></th>\n",
       "      <th>Financeur</th>\n",
       "      <th>Bénéficiaire</th>\n",
       "      <th>Montant</th>\n",
       "    </tr>\n",
       "  </thead>\n",
       "  <tbody>\n",
       "    <tr>\n",
       "      <th>1154</th>\n",
       "      <td>Commune de Lyon</td>\n",
       "      <td>OPERA DE LYON</td>\n",
       "      <td>17573989.72</td>\n",
       "    </tr>\n",
       "    <tr>\n",
       "      <th>1852</th>\n",
       "      <td>Etat</td>\n",
       "      <td>FOYER NOTRE DAME DES SANS ABRI</td>\n",
       "      <td>15231489.84</td>\n",
       "    </tr>\n",
       "    <tr>\n",
       "      <th>1840</th>\n",
       "      <td>Etat</td>\n",
       "      <td>FONDATION DE L ARMEE DU SALUT</td>\n",
       "      <td>12493087.80</td>\n",
       "    </tr>\n",
       "    <tr>\n",
       "      <th>1561</th>\n",
       "      <td>Etat</td>\n",
       "      <td>ASSOCIATION LE MAS</td>\n",
       "      <td>9922153.96</td>\n",
       "    </tr>\n",
       "    <tr>\n",
       "      <th>1477</th>\n",
       "      <td>Etat</td>\n",
       "      <td>ASS HABITAT HUMANISME RHONE</td>\n",
       "      <td>9782896.20</td>\n",
       "    </tr>\n",
       "    <tr>\n",
       "      <th>2107</th>\n",
       "      <td>Etat</td>\n",
       "      <td>OPERA DE LYON</td>\n",
       "      <td>6063476.00</td>\n",
       "    </tr>\n",
       "    <tr>\n",
       "      <th>1838</th>\n",
       "      <td>Etat</td>\n",
       "      <td>FONDATION ARALIS</td>\n",
       "      <td>5702212.73</td>\n",
       "    </tr>\n",
       "    <tr>\n",
       "      <th>1546</th>\n",
       "      <td>Etat</td>\n",
       "      <td>ASSOCIATION FEDERATION HANDICAP INTERNATIONAL</td>\n",
       "      <td>5325436.00</td>\n",
       "    </tr>\n",
       "    <tr>\n",
       "      <th>1537</th>\n",
       "      <td>Etat</td>\n",
       "      <td>ASSOCIATION DES FONDATEURS ET PROTECTEURS DE L...</td>\n",
       "      <td>4203531.93</td>\n",
       "    </tr>\n",
       "    <tr>\n",
       "      <th>1882</th>\n",
       "      <td>Etat</td>\n",
       "      <td>HANDICAP INTERNATIONAL FRANCE</td>\n",
       "      <td>3839415.00</td>\n",
       "    </tr>\n",
       "    <tr>\n",
       "      <th>1532</th>\n",
       "      <td>Etat</td>\n",
       "      <td>ASSOCIATION DE L HOTEL SOCIAL</td>\n",
       "      <td>3822561.66</td>\n",
       "    </tr>\n",
       "    <tr>\n",
       "      <th>1891</th>\n",
       "      <td>Etat</td>\n",
       "      <td>I S A R A</td>\n",
       "      <td>3809784.00</td>\n",
       "    </tr>\n",
       "    <tr>\n",
       "      <th>2226</th>\n",
       "      <td>Etat</td>\n",
       "      <td>TRIANGLE GENERATION HUMANITAIRE</td>\n",
       "      <td>3738460.00</td>\n",
       "    </tr>\n",
       "    <tr>\n",
       "      <th>1403</th>\n",
       "      <td>Etat</td>\n",
       "      <td>ACOLEA</td>\n",
       "      <td>3713299.14</td>\n",
       "    </tr>\n",
       "    <tr>\n",
       "      <th>2260</th>\n",
       "      <td>Métropole de Lyon (Budget principal)</td>\n",
       "      <td>A D E R L Y</td>\n",
       "      <td>3394350.00</td>\n",
       "    </tr>\n",
       "    <tr>\n",
       "      <th>2070</th>\n",
       "      <td>Etat</td>\n",
       "      <td>MISSION LOCALE DE LYON</td>\n",
       "      <td>3363501.50</td>\n",
       "    </tr>\n",
       "    <tr>\n",
       "      <th>1419</th>\n",
       "      <td>Etat</td>\n",
       "      <td>AJD MAURICE GOUNON</td>\n",
       "      <td>3313296.80</td>\n",
       "    </tr>\n",
       "    <tr>\n",
       "      <th>1751</th>\n",
       "      <td>Etat</td>\n",
       "      <td>CROIX ROUGE FRANCAISE</td>\n",
       "      <td>3047134.66</td>\n",
       "    </tr>\n",
       "    <tr>\n",
       "      <th>381</th>\n",
       "      <td>Commune de Lyon</td>\n",
       "      <td>COMITE OEUVRES SOCIALES LYON</td>\n",
       "      <td>2938471.00</td>\n",
       "    </tr>\n",
       "    <tr>\n",
       "      <th>2577</th>\n",
       "      <td>Métropole de Lyon (Budget principal)</td>\n",
       "      <td>OPERA DE LYON</td>\n",
       "      <td>2919391.00</td>\n",
       "    </tr>\n",
       "  </tbody>\n",
       "</table>\n",
       "</div>"
      ],
      "text/plain": [
       "                                 Financeur  \\\n",
       "1154                       Commune de Lyon   \n",
       "1852                                  Etat   \n",
       "1840                                  Etat   \n",
       "1561                                  Etat   \n",
       "1477                                  Etat   \n",
       "2107                                  Etat   \n",
       "1838                                  Etat   \n",
       "1546                                  Etat   \n",
       "1537                                  Etat   \n",
       "1882                                  Etat   \n",
       "1532                                  Etat   \n",
       "1891                                  Etat   \n",
       "2226                                  Etat   \n",
       "1403                                  Etat   \n",
       "2260  Métropole de Lyon (Budget principal)   \n",
       "2070                                  Etat   \n",
       "1419                                  Etat   \n",
       "1751                                  Etat   \n",
       "381                        Commune de Lyon   \n",
       "2577  Métropole de Lyon (Budget principal)   \n",
       "\n",
       "                                           Bénéficiaire      Montant  \n",
       "1154                                      OPERA DE LYON  17573989.72  \n",
       "1852                     FOYER NOTRE DAME DES SANS ABRI  15231489.84  \n",
       "1840                      FONDATION DE L ARMEE DU SALUT  12493087.80  \n",
       "1561                                 ASSOCIATION LE MAS   9922153.96  \n",
       "1477                        ASS HABITAT HUMANISME RHONE   9782896.20  \n",
       "2107                                      OPERA DE LYON   6063476.00  \n",
       "1838                                   FONDATION ARALIS   5702212.73  \n",
       "1546      ASSOCIATION FEDERATION HANDICAP INTERNATIONAL   5325436.00  \n",
       "1537  ASSOCIATION DES FONDATEURS ET PROTECTEURS DE L...   4203531.93  \n",
       "1882                      HANDICAP INTERNATIONAL FRANCE   3839415.00  \n",
       "1532                      ASSOCIATION DE L HOTEL SOCIAL   3822561.66  \n",
       "1891                                          I S A R A   3809784.00  \n",
       "2226                    TRIANGLE GENERATION HUMANITAIRE   3738460.00  \n",
       "1403                                             ACOLEA   3713299.14  \n",
       "2260                                        A D E R L Y   3394350.00  \n",
       "2070                             MISSION LOCALE DE LYON   3363501.50  \n",
       "1419                                 AJD MAURICE GOUNON   3313296.80  \n",
       "1751                              CROIX ROUGE FRANCAISE   3047134.66  \n",
       "381                        COMITE OEUVRES SOCIALES LYON   2938471.00  \n",
       "2577                                      OPERA DE LYON   2919391.00  "
      ]
     },
     "metadata": {},
     "output_type": "display_data"
    }
   ],
   "source": [
    "#Nombre d'acteurs subventionnés & montants\n",
    "df_financeur_benef = df_total.groupby([\"Financeur\", \"Bénéficiaire\"], as_index = False)[\"Montant\"].sum().sort_values(by = \"Montant\", ascending=False)\n",
    "display(df_financeur_benef.head(20))\n"
   ]
  },
  {
   "cell_type": "code",
   "execution_count": 42,
   "metadata": {},
   "outputs": [
    {
     "name": "stdout",
     "output_type": "stream",
     "text": [
      "Financeur       Commune de Lyon\n",
      "Bénéficiaire       124 SERVICES\n",
      "Montant                 30600.0\n",
      "Name: 0, dtype: object Financeur               Etat\n",
      "Bénéficiaire    124 SERVICES\n",
      "Montant               4000.0\n",
      "Name: 1389, dtype: object Financeur       Métropole de Lyon (Budget principal)\n",
      "Bénéficiaire                            124 SERVICES\n",
      "Montant                                      39150.0\n",
      "Name: 2259, dtype: object\n"
     ]
    }
   ],
   "source": [
    "df_financeur_benef.loc[df_financeur_benef[\"Bénéficiaire\"].str.contains(\"124\", case = False)]\n",
    "print(df_financeur_benef.loc[0], df_financeur_benef.loc[1389], df_financeur_benef.loc[2259])"
   ]
  },
  {
   "cell_type": "code",
   "execution_count": 27,
   "metadata": {},
   "outputs": [
    {
     "data": {
      "text/html": [
       "<div>\n",
       "<style scoped>\n",
       "    .dataframe tbody tr th:only-of-type {\n",
       "        vertical-align: middle;\n",
       "    }\n",
       "\n",
       "    .dataframe tbody tr th {\n",
       "        vertical-align: top;\n",
       "    }\n",
       "\n",
       "    .dataframe thead th {\n",
       "        text-align: right;\n",
       "    }\n",
       "</style>\n",
       "<table border=\"1\" class=\"dataframe\">\n",
       "  <thead>\n",
       "    <tr style=\"text-align: right;\">\n",
       "      <th></th>\n",
       "      <th>Financeur</th>\n",
       "      <th>Bénéficiaire</th>\n",
       "      <th>Montant</th>\n",
       "    </tr>\n",
       "  </thead>\n",
       "  <tbody>\n",
       "    <tr>\n",
       "      <th>1155</th>\n",
       "      <td>Commune de Lyon</td>\n",
       "      <td>OPERA DE LYON</td>\n",
       "      <td>17573989.72</td>\n",
       "    </tr>\n",
       "    <tr>\n",
       "      <th>1854</th>\n",
       "      <td>Etat</td>\n",
       "      <td>FOYER NOTRE DAME DES SANS ABRI</td>\n",
       "      <td>15231489.84</td>\n",
       "    </tr>\n",
       "    <tr>\n",
       "      <th>1842</th>\n",
       "      <td>Etat</td>\n",
       "      <td>FONDATION DE L ARMEE DU SALUT</td>\n",
       "      <td>12493087.80</td>\n",
       "    </tr>\n",
       "    <tr>\n",
       "      <th>1494</th>\n",
       "      <td>Etat</td>\n",
       "      <td>ASSOCIATION LE MAS</td>\n",
       "      <td>9922153.96</td>\n",
       "    </tr>\n",
       "    <tr>\n",
       "      <th>1552</th>\n",
       "      <td>Etat</td>\n",
       "      <td>ASS HABITAT HUMANISME RHONE</td>\n",
       "      <td>9782896.20</td>\n",
       "    </tr>\n",
       "    <tr>\n",
       "      <th>...</th>\n",
       "      <td>...</td>\n",
       "      <td>...</td>\n",
       "      <td>...</td>\n",
       "    </tr>\n",
       "    <tr>\n",
       "      <th>1518</th>\n",
       "      <td>Etat</td>\n",
       "      <td>ASSOCIATION SPORTIVE DE TENNIS DE TABLE LYON 6EME</td>\n",
       "      <td>50.00</td>\n",
       "    </tr>\n",
       "    <tr>\n",
       "      <th>1412</th>\n",
       "      <td>Etat</td>\n",
       "      <td>AIKIDO DU RHONE</td>\n",
       "      <td>50.00</td>\n",
       "    </tr>\n",
       "    <tr>\n",
       "      <th>1805</th>\n",
       "      <td>Etat</td>\n",
       "      <td>EVASION SPORTING CLUB DU 5</td>\n",
       "      <td>50.00</td>\n",
       "    </tr>\n",
       "    <tr>\n",
       "      <th>1591</th>\n",
       "      <td>Etat</td>\n",
       "      <td>AURA TAEKWONKIDO</td>\n",
       "      <td>50.00</td>\n",
       "    </tr>\n",
       "    <tr>\n",
       "      <th>1891</th>\n",
       "      <td>Etat</td>\n",
       "      <td>ICAM LYON</td>\n",
       "      <td>50.00</td>\n",
       "    </tr>\n",
       "  </tbody>\n",
       "</table>\n",
       "<p>2671 rows × 3 columns</p>\n",
       "</div>"
      ],
      "text/plain": [
       "            Financeur                                       Bénéficiaire  \\\n",
       "1155  Commune de Lyon                                      OPERA DE LYON   \n",
       "1854             Etat                     FOYER NOTRE DAME DES SANS ABRI   \n",
       "1842             Etat                      FONDATION DE L ARMEE DU SALUT   \n",
       "1494             Etat                                 ASSOCIATION LE MAS   \n",
       "1552             Etat                        ASS HABITAT HUMANISME RHONE   \n",
       "...               ...                                                ...   \n",
       "1518             Etat  ASSOCIATION SPORTIVE DE TENNIS DE TABLE LYON 6EME   \n",
       "1412             Etat                                    AIKIDO DU RHONE   \n",
       "1805             Etat                         EVASION SPORTING CLUB DU 5   \n",
       "1591             Etat                                   AURA TAEKWONKIDO   \n",
       "1891             Etat                                          ICAM LYON   \n",
       "\n",
       "          Montant  \n",
       "1155  17573989.72  \n",
       "1854  15231489.84  \n",
       "1842  12493087.80  \n",
       "1494   9922153.96  \n",
       "1552   9782896.20  \n",
       "...           ...  \n",
       "1518        50.00  \n",
       "1412        50.00  \n",
       "1805        50.00  \n",
       "1591        50.00  \n",
       "1891        50.00  \n",
       "\n",
       "[2671 rows x 3 columns]"
      ]
     },
     "execution_count": 27,
     "metadata": {},
     "output_type": "execute_result"
    }
   ],
   "source": [
    "df_financeur_benef = df_financeur_benef.replace({\n",
    "    \"OPERA NATIONAL DE LYON\" : \"OPERA DE LYON\"})\n",
    "df_financeur_benef"
   ]
  },
  {
   "cell_type": "code",
   "execution_count": 72,
   "metadata": {},
   "outputs": [
    {
     "data": {
      "text/plain": [
       "array(['OPERA DE LYON', 'FOYER NOTRE DAME DES SANS ABRI',\n",
       "       'FONDATION DE L ARMEE DU SALUT', ..., 'EVASION SPORTING CLUB DU 5',\n",
       "       'AURA TAEKWONKIDO', 'ICAM LYON'], dtype=object)"
      ]
     },
     "execution_count": 72,
     "metadata": {},
     "output_type": "execute_result"
    }
   ],
   "source": [
    "#df_financeur_benef.loc[df_financeur_benef[\"Bénéficiaire\"].astype(\"string\").str.contains(\"124SERVICES\")]\n",
    "\n",
    "import unicodedata\n",
    "   \n",
    "df_financeur_benef[\"Bénéficiaire\"] = df_financeur_benef[\"Bénéficiaire\"].apply(lambda x : unicodedata.normalize(\"NFKD\", x))\n",
    "df_financeur_benef[\"Bénéficiaire\"].unique()\n"
   ]
  },
  {
   "cell_type": "code",
   "execution_count": 109,
   "metadata": {},
   "outputs": [
    {
     "data": {
      "text/html": [
       "<div>\n",
       "<style scoped>\n",
       "    .dataframe tbody tr th:only-of-type {\n",
       "        vertical-align: middle;\n",
       "    }\n",
       "\n",
       "    .dataframe tbody tr th {\n",
       "        vertical-align: top;\n",
       "    }\n",
       "\n",
       "    .dataframe thead th {\n",
       "        text-align: right;\n",
       "    }\n",
       "</style>\n",
       "<table border=\"1\" class=\"dataframe\">\n",
       "  <thead>\n",
       "    <tr style=\"text-align: right;\">\n",
       "      <th></th>\n",
       "      <th>Bénéficiaire</th>\n",
       "      <th>Montant</th>\n",
       "    </tr>\n",
       "  </thead>\n",
       "  <tbody>\n",
       "    <tr>\n",
       "      <th>0</th>\n",
       "      <td>124 SERVICES</td>\n",
       "      <td>73750.0</td>\n",
       "    </tr>\n",
       "    <tr>\n",
       "      <th>1</th>\n",
       "      <td>159-165 COURS TOLSTOI</td>\n",
       "      <td>46161.2</td>\n",
       "    </tr>\n",
       "    <tr>\n",
       "      <th>2</th>\n",
       "      <td>3 S   SEJOUR SPORTIF SOLIDAIRE</td>\n",
       "      <td>1500.0</td>\n",
       "    </tr>\n",
       "    <tr>\n",
       "      <th>3</th>\n",
       "      <td>3F RESIDENCES</td>\n",
       "      <td>543000.0</td>\n",
       "    </tr>\n",
       "    <tr>\n",
       "      <th>4</th>\n",
       "      <td>99</td>\n",
       "      <td>3500.0</td>\n",
       "    </tr>\n",
       "    <tr>\n",
       "      <th>...</th>\n",
       "      <td>...</td>\n",
       "      <td>...</td>\n",
       "    </tr>\n",
       "    <tr>\n",
       "      <th>2314</th>\n",
       "      <td>YACHT CLUB DU RHONE</td>\n",
       "      <td>4126.0</td>\n",
       "    </tr>\n",
       "    <tr>\n",
       "      <th>2315</th>\n",
       "      <td>YERKIR EUROPE</td>\n",
       "      <td>3000.0</td>\n",
       "    </tr>\n",
       "    <tr>\n",
       "      <th>2316</th>\n",
       "      <td>YOON FRANCE</td>\n",
       "      <td>141500.0</td>\n",
       "    </tr>\n",
       "    <tr>\n",
       "      <th>2317</th>\n",
       "      <td>ZERO DECHET LYON</td>\n",
       "      <td>18522.0</td>\n",
       "    </tr>\n",
       "    <tr>\n",
       "      <th>2318</th>\n",
       "      <td>ZONE ONZE</td>\n",
       "      <td>25000.0</td>\n",
       "    </tr>\n",
       "  </tbody>\n",
       "</table>\n",
       "<p>2319 rows × 2 columns</p>\n",
       "</div>"
      ],
      "text/plain": [
       "                        Bénéficiaire   Montant\n",
       "0                       124 SERVICES   73750.0\n",
       "1              159-165 COURS TOLSTOI   46161.2\n",
       "2     3 S   SEJOUR SPORTIF SOLIDAIRE    1500.0\n",
       "3                      3F RESIDENCES  543000.0\n",
       "4                                 99    3500.0\n",
       "...                              ...       ...\n",
       "2314             YACHT CLUB DU RHONE    4126.0\n",
       "2315                   YERKIR EUROPE    3000.0\n",
       "2316                     YOON FRANCE  141500.0\n",
       "2317                ZERO DECHET LYON   18522.0\n",
       "2318                       ZONE ONZE   25000.0\n",
       "\n",
       "[2319 rows x 2 columns]"
      ]
     },
     "execution_count": 109,
     "metadata": {},
     "output_type": "execute_result"
    }
   ],
   "source": [
    "#df_financeur_benef[\"Montant\"] = df_financeur_benef[\"Montant\"].astype(\"float\")\n",
    "df_financeur_benef_total = df_financeur_benef.groupby(\"Bénéficiaire\", as_index = False).agg({\"Montant\" : \"sum\"})\n",
    "df_financeur_benef_total"
   ]
  },
  {
   "cell_type": "code",
   "execution_count": 111,
   "metadata": {},
   "outputs": [
    {
     "data": {
      "text/html": [
       "<div>\n",
       "<style scoped>\n",
       "    .dataframe tbody tr th:only-of-type {\n",
       "        vertical-align: middle;\n",
       "    }\n",
       "\n",
       "    .dataframe tbody tr th {\n",
       "        vertical-align: top;\n",
       "    }\n",
       "\n",
       "    .dataframe thead th {\n",
       "        text-align: right;\n",
       "    }\n",
       "</style>\n",
       "<table border=\"1\" class=\"dataframe\">\n",
       "  <thead>\n",
       "    <tr style=\"text-align: right;\">\n",
       "      <th></th>\n",
       "      <th>Financeur</th>\n",
       "      <th>Bénéficiaire</th>\n",
       "      <th>Montant_x</th>\n",
       "      <th>Montant_y</th>\n",
       "    </tr>\n",
       "  </thead>\n",
       "  <tbody>\n",
       "    <tr>\n",
       "      <th>0</th>\n",
       "      <td>Commune de Lyon</td>\n",
       "      <td>OPERA DE LYON</td>\n",
       "      <td>17573989.72</td>\n",
       "      <td>26556856.72</td>\n",
       "    </tr>\n",
       "    <tr>\n",
       "      <th>5</th>\n",
       "      <td>Etat</td>\n",
       "      <td>OPERA DE LYON</td>\n",
       "      <td>6063476.00</td>\n",
       "      <td>26556856.72</td>\n",
       "    </tr>\n",
       "    <tr>\n",
       "      <th>19</th>\n",
       "      <td>Métropole de Lyon (Budget principal)</td>\n",
       "      <td>OPERA DE LYON</td>\n",
       "      <td>2919391.00</td>\n",
       "      <td>26556856.72</td>\n",
       "    </tr>\n",
       "    <tr>\n",
       "      <th>1</th>\n",
       "      <td>Etat</td>\n",
       "      <td>FOYER NOTRE DAME DES SANS ABRI</td>\n",
       "      <td>15231489.84</td>\n",
       "      <td>17782971.64</td>\n",
       "    </tr>\n",
       "    <tr>\n",
       "      <th>24</th>\n",
       "      <td>Métropole de Lyon (Budget principal)</td>\n",
       "      <td>FOYER NOTRE DAME DES SANS ABRI</td>\n",
       "      <td>2262481.80</td>\n",
       "      <td>17782971.64</td>\n",
       "    </tr>\n",
       "    <tr>\n",
       "      <th>205</th>\n",
       "      <td>Commune de Lyon</td>\n",
       "      <td>FOYER NOTRE DAME DES SANS ABRI</td>\n",
       "      <td>289000.00</td>\n",
       "      <td>17782971.64</td>\n",
       "    </tr>\n",
       "    <tr>\n",
       "      <th>2</th>\n",
       "      <td>Etat</td>\n",
       "      <td>FONDATION DE L ARMEE DU SALUT</td>\n",
       "      <td>12493087.80</td>\n",
       "      <td>12728790.29</td>\n",
       "    </tr>\n",
       "    <tr>\n",
       "      <th>288</th>\n",
       "      <td>Métropole de Lyon (Budget principal)</td>\n",
       "      <td>FONDATION DE L ARMEE DU SALUT</td>\n",
       "      <td>200702.49</td>\n",
       "      <td>12728790.29</td>\n",
       "    </tr>\n",
       "    <tr>\n",
       "      <th>902</th>\n",
       "      <td>Commune de Lyon</td>\n",
       "      <td>FONDATION DE L ARMEE DU SALUT</td>\n",
       "      <td>35000.00</td>\n",
       "      <td>12728790.29</td>\n",
       "    </tr>\n",
       "    <tr>\n",
       "      <th>4</th>\n",
       "      <td>Etat</td>\n",
       "      <td>ASS HABITAT HUMANISME RHONE</td>\n",
       "      <td>9782896.20</td>\n",
       "      <td>11091447.20</td>\n",
       "    </tr>\n",
       "    <tr>\n",
       "      <th>53</th>\n",
       "      <td>Métropole de Lyon (Budget principal)</td>\n",
       "      <td>ASS HABITAT HUMANISME RHONE</td>\n",
       "      <td>1139740.00</td>\n",
       "      <td>11091447.20</td>\n",
       "    </tr>\n",
       "    <tr>\n",
       "      <th>329</th>\n",
       "      <td>Commune de Lyon</td>\n",
       "      <td>ASS HABITAT HUMANISME RHONE</td>\n",
       "      <td>168811.00</td>\n",
       "      <td>11091447.20</td>\n",
       "    </tr>\n",
       "    <tr>\n",
       "      <th>3</th>\n",
       "      <td>Etat</td>\n",
       "      <td>ASSOCIATION LE MAS</td>\n",
       "      <td>9922153.96</td>\n",
       "      <td>10966577.65</td>\n",
       "    </tr>\n",
       "    <tr>\n",
       "      <th>60</th>\n",
       "      <td>Métropole de Lyon (Budget principal)</td>\n",
       "      <td>ASSOCIATION LE MAS</td>\n",
       "      <td>1044423.69</td>\n",
       "      <td>10966577.65</td>\n",
       "    </tr>\n",
       "    <tr>\n",
       "      <th>6</th>\n",
       "      <td>Etat</td>\n",
       "      <td>FONDATION ARALIS</td>\n",
       "      <td>5702212.73</td>\n",
       "      <td>6113632.73</td>\n",
       "    </tr>\n",
       "    <tr>\n",
       "      <th>141</th>\n",
       "      <td>Métropole de Lyon (Budget principal)</td>\n",
       "      <td>FONDATION ARALIS</td>\n",
       "      <td>411420.00</td>\n",
       "      <td>6113632.73</td>\n",
       "    </tr>\n",
       "    <tr>\n",
       "      <th>7</th>\n",
       "      <td>Etat</td>\n",
       "      <td>ASSOCIATION FEDERATION HANDICAP INTERNATIONAL</td>\n",
       "      <td>5325436.00</td>\n",
       "      <td>5325436.00</td>\n",
       "    </tr>\n",
       "    <tr>\n",
       "      <th>10</th>\n",
       "      <td>Etat</td>\n",
       "      <td>ASSOCIATION DE L HOTEL SOCIAL</td>\n",
       "      <td>3822561.66</td>\n",
       "      <td>4228201.85</td>\n",
       "    </tr>\n",
       "    <tr>\n",
       "      <th>146</th>\n",
       "      <td>Métropole de Lyon (Budget principal)</td>\n",
       "      <td>ASSOCIATION DE L HOTEL SOCIAL</td>\n",
       "      <td>405640.19</td>\n",
       "      <td>4228201.85</td>\n",
       "    </tr>\n",
       "    <tr>\n",
       "      <th>13</th>\n",
       "      <td>Etat</td>\n",
       "      <td>ACOLEA</td>\n",
       "      <td>3713299.14</td>\n",
       "      <td>4218827.19</td>\n",
       "    </tr>\n",
       "  </tbody>\n",
       "</table>\n",
       "</div>"
      ],
      "text/plain": [
       "                                Financeur  \\\n",
       "0                         Commune de Lyon   \n",
       "5                                    Etat   \n",
       "19   Métropole de Lyon (Budget principal)   \n",
       "1                                    Etat   \n",
       "24   Métropole de Lyon (Budget principal)   \n",
       "205                       Commune de Lyon   \n",
       "2                                    Etat   \n",
       "288  Métropole de Lyon (Budget principal)   \n",
       "902                       Commune de Lyon   \n",
       "4                                    Etat   \n",
       "53   Métropole de Lyon (Budget principal)   \n",
       "329                       Commune de Lyon   \n",
       "3                                    Etat   \n",
       "60   Métropole de Lyon (Budget principal)   \n",
       "6                                    Etat   \n",
       "141  Métropole de Lyon (Budget principal)   \n",
       "7                                    Etat   \n",
       "10                                   Etat   \n",
       "146  Métropole de Lyon (Budget principal)   \n",
       "13                                   Etat   \n",
       "\n",
       "                                      Bénéficiaire    Montant_x    Montant_y  \n",
       "0                                    OPERA DE LYON  17573989.72  26556856.72  \n",
       "5                                    OPERA DE LYON   6063476.00  26556856.72  \n",
       "19                                   OPERA DE LYON   2919391.00  26556856.72  \n",
       "1                   FOYER NOTRE DAME DES SANS ABRI  15231489.84  17782971.64  \n",
       "24                  FOYER NOTRE DAME DES SANS ABRI   2262481.80  17782971.64  \n",
       "205                 FOYER NOTRE DAME DES SANS ABRI    289000.00  17782971.64  \n",
       "2                    FONDATION DE L ARMEE DU SALUT  12493087.80  12728790.29  \n",
       "288                  FONDATION DE L ARMEE DU SALUT    200702.49  12728790.29  \n",
       "902                  FONDATION DE L ARMEE DU SALUT     35000.00  12728790.29  \n",
       "4                      ASS HABITAT HUMANISME RHONE   9782896.20  11091447.20  \n",
       "53                     ASS HABITAT HUMANISME RHONE   1139740.00  11091447.20  \n",
       "329                    ASS HABITAT HUMANISME RHONE    168811.00  11091447.20  \n",
       "3                               ASSOCIATION LE MAS   9922153.96  10966577.65  \n",
       "60                              ASSOCIATION LE MAS   1044423.69  10966577.65  \n",
       "6                                 FONDATION ARALIS   5702212.73   6113632.73  \n",
       "141                               FONDATION ARALIS    411420.00   6113632.73  \n",
       "7    ASSOCIATION FEDERATION HANDICAP INTERNATIONAL   5325436.00   5325436.00  \n",
       "10                   ASSOCIATION DE L HOTEL SOCIAL   3822561.66   4228201.85  \n",
       "146                  ASSOCIATION DE L HOTEL SOCIAL    405640.19   4228201.85  \n",
       "13                                          ACOLEA   3713299.14   4218827.19  "
      ]
     },
     "execution_count": 111,
     "metadata": {},
     "output_type": "execute_result"
    }
   ],
   "source": [
    "df_financeur_benef2 = df_financeur_benef.merge(df_financeur_benef_total, on = \"Bénéficiaire\", how = \"left\")\n",
    "df_financeur_benef2 = df_financeur_benef2.sort_values(by = [\"Montant_y\", \"Montant_x\"], ascending = False)\n",
    "df_financeur_benef2.head(20)"
   ]
  },
  {
   "cell_type": "code",
   "execution_count": 106,
   "metadata": {},
   "outputs": [
    {
     "data": {
      "text/html": [
       "<div>\n",
       "<style scoped>\n",
       "    .dataframe tbody tr th:only-of-type {\n",
       "        vertical-align: middle;\n",
       "    }\n",
       "\n",
       "    .dataframe tbody tr th {\n",
       "        vertical-align: top;\n",
       "    }\n",
       "\n",
       "    .dataframe thead th {\n",
       "        text-align: right;\n",
       "    }\n",
       "</style>\n",
       "<table border=\"1\" class=\"dataframe\">\n",
       "  <thead>\n",
       "    <tr style=\"text-align: right;\">\n",
       "      <th></th>\n",
       "      <th>Financeur</th>\n",
       "      <th>Bénéficiaire</th>\n",
       "      <th>Montant_x</th>\n",
       "      <th>Montant_y</th>\n",
       "    </tr>\n",
       "  </thead>\n",
       "  <tbody>\n",
       "    <tr>\n",
       "      <th>0</th>\n",
       "      <td>Commune de Lyon</td>\n",
       "      <td>OPERA DE LYON</td>\n",
       "      <td>17573989.72</td>\n",
       "      <td>26556856.72</td>\n",
       "    </tr>\n",
       "    <tr>\n",
       "      <th>6</th>\n",
       "      <td>Etat</td>\n",
       "      <td>OPERA DE LYON</td>\n",
       "      <td>6063476.00</td>\n",
       "      <td>26556856.72</td>\n",
       "    </tr>\n",
       "    <tr>\n",
       "      <th>22</th>\n",
       "      <td>Métropole de Lyon (Budget principal)</td>\n",
       "      <td>OPERA DE LYON</td>\n",
       "      <td>2919391.00</td>\n",
       "      <td>26556856.72</td>\n",
       "    </tr>\n",
       "    <tr>\n",
       "      <th>1</th>\n",
       "      <td>Etat</td>\n",
       "      <td>FOYER NOTRE DAME DES SANS ABRI</td>\n",
       "      <td>15231489.84</td>\n",
       "      <td>17782971.64</td>\n",
       "    </tr>\n",
       "    <tr>\n",
       "      <th>27</th>\n",
       "      <td>Métropole de Lyon (Budget principal)</td>\n",
       "      <td>FOYER NOTRE DAME DES SANS ABRI</td>\n",
       "      <td>2262481.80</td>\n",
       "      <td>17782971.64</td>\n",
       "    </tr>\n",
       "    <tr>\n",
       "      <th>209</th>\n",
       "      <td>Commune de Lyon</td>\n",
       "      <td>FOYER NOTRE DAME DES SANS ABRI</td>\n",
       "      <td>289000.00</td>\n",
       "      <td>17782971.64</td>\n",
       "    </tr>\n",
       "    <tr>\n",
       "      <th>2</th>\n",
       "      <td>Etat</td>\n",
       "      <td>FONDATION DE L ARMEE DU SALUT</td>\n",
       "      <td>12493087.80</td>\n",
       "      <td>12728790.29</td>\n",
       "    </tr>\n",
       "    <tr>\n",
       "      <th>291</th>\n",
       "      <td>Métropole de Lyon (Budget principal)</td>\n",
       "      <td>FONDATION DE L ARMEE DU SALUT</td>\n",
       "      <td>200702.49</td>\n",
       "      <td>12728790.29</td>\n",
       "    </tr>\n",
       "    <tr>\n",
       "      <th>900</th>\n",
       "      <td>Commune de Lyon</td>\n",
       "      <td>FONDATION DE L ARMEE DU SALUT</td>\n",
       "      <td>35000.00</td>\n",
       "      <td>12728790.29</td>\n",
       "    </tr>\n",
       "    <tr>\n",
       "      <th>4</th>\n",
       "      <td>Etat</td>\n",
       "      <td>ASS HABITAT HUMANISME RHONE</td>\n",
       "      <td>9782896.20</td>\n",
       "      <td>11091447.20</td>\n",
       "    </tr>\n",
       "    <tr>\n",
       "      <th>56</th>\n",
       "      <td>Métropole de Lyon (Budget principal)</td>\n",
       "      <td>ASS HABITAT HUMANISME RHONE</td>\n",
       "      <td>1139740.00</td>\n",
       "      <td>11091447.20</td>\n",
       "    </tr>\n",
       "    <tr>\n",
       "      <th>332</th>\n",
       "      <td>Commune de Lyon</td>\n",
       "      <td>ASS HABITAT HUMANISME RHONE</td>\n",
       "      <td>168811.00</td>\n",
       "      <td>11091447.20</td>\n",
       "    </tr>\n",
       "    <tr>\n",
       "      <th>3</th>\n",
       "      <td>Etat</td>\n",
       "      <td>ASSOCIATION LE MAS</td>\n",
       "      <td>9922153.96</td>\n",
       "      <td>10966577.65</td>\n",
       "    </tr>\n",
       "    <tr>\n",
       "      <th>63</th>\n",
       "      <td>Métropole de Lyon (Budget principal)</td>\n",
       "      <td>ASSOCIATION LE MAS</td>\n",
       "      <td>1044423.69</td>\n",
       "      <td>10966577.65</td>\n",
       "    </tr>\n",
       "    <tr>\n",
       "      <th>5</th>\n",
       "      <td>Métropole de Lyon (Budget principal)</td>\n",
       "      <td>ORGANISME DE FONCIER SOLIDAIRE DE LA METROPOLE...</td>\n",
       "      <td>7925000.00</td>\n",
       "      <td>7925000.00</td>\n",
       "    </tr>\n",
       "    <tr>\n",
       "      <th>7</th>\n",
       "      <td>Etat</td>\n",
       "      <td>FONDATION ARALIS</td>\n",
       "      <td>5702212.73</td>\n",
       "      <td>6113632.73</td>\n",
       "    </tr>\n",
       "    <tr>\n",
       "      <th>144</th>\n",
       "      <td>Métropole de Lyon (Budget principal)</td>\n",
       "      <td>FONDATION ARALIS</td>\n",
       "      <td>411420.00</td>\n",
       "      <td>6113632.73</td>\n",
       "    </tr>\n",
       "    <tr>\n",
       "      <th>8</th>\n",
       "      <td>Etat</td>\n",
       "      <td>ASSOCIATION FEDERATION HANDICAP INTERNATIONAL</td>\n",
       "      <td>5325436.00</td>\n",
       "      <td>5325436.00</td>\n",
       "    </tr>\n",
       "    <tr>\n",
       "      <th>9</th>\n",
       "      <td>Métropole de Lyon (Budget principal)</td>\n",
       "      <td>OFF TOURISME BUREAU CONGRES GRAND LYON</td>\n",
       "      <td>4769385.28</td>\n",
       "      <td>4769385.28</td>\n",
       "    </tr>\n",
       "    <tr>\n",
       "      <th>10</th>\n",
       "      <td>Métropole de Lyon (Budget principal)</td>\n",
       "      <td>COMITE SOCIAL DU PERSONNEL DE LA METROPOLE LYO...</td>\n",
       "      <td>4716136.78</td>\n",
       "      <td>4716136.78</td>\n",
       "    </tr>\n",
       "    <tr>\n",
       "      <th>13</th>\n",
       "      <td>Etat</td>\n",
       "      <td>ASSOCIATION DE L HOTEL SOCIAL</td>\n",
       "      <td>3822561.66</td>\n",
       "      <td>4228201.85</td>\n",
       "    </tr>\n",
       "    <tr>\n",
       "      <th>149</th>\n",
       "      <td>Métropole de Lyon (Budget principal)</td>\n",
       "      <td>ASSOCIATION DE L HOTEL SOCIAL</td>\n",
       "      <td>405640.19</td>\n",
       "      <td>4228201.85</td>\n",
       "    </tr>\n",
       "    <tr>\n",
       "      <th>16</th>\n",
       "      <td>Etat</td>\n",
       "      <td>ACOLEA</td>\n",
       "      <td>3713299.14</td>\n",
       "      <td>4218827.19</td>\n",
       "    </tr>\n",
       "    <tr>\n",
       "      <th>117</th>\n",
       "      <td>Métropole de Lyon (Budget principal)</td>\n",
       "      <td>ACOLEA</td>\n",
       "      <td>505528.05</td>\n",
       "      <td>4218827.19</td>\n",
       "    </tr>\n",
       "    <tr>\n",
       "      <th>11</th>\n",
       "      <td>Etat</td>\n",
       "      <td>ASSOCIATION DES FONDATEURS ET PROTECTEURS DE L...</td>\n",
       "      <td>4203531.93</td>\n",
       "      <td>4203531.93</td>\n",
       "    </tr>\n",
       "    <tr>\n",
       "      <th>19</th>\n",
       "      <td>Etat</td>\n",
       "      <td>AJD MAURICE GOUNON</td>\n",
       "      <td>3313296.80</td>\n",
       "      <td>3937418.71</td>\n",
       "    </tr>\n",
       "    <tr>\n",
       "      <th>111</th>\n",
       "      <td>Métropole de Lyon (Budget principal)</td>\n",
       "      <td>AJD MAURICE GOUNON</td>\n",
       "      <td>537121.91</td>\n",
       "      <td>3937418.71</td>\n",
       "    </tr>\n",
       "    <tr>\n",
       "      <th>523</th>\n",
       "      <td>Commune de Lyon</td>\n",
       "      <td>AJD MAURICE GOUNON</td>\n",
       "      <td>87000.00</td>\n",
       "      <td>3937418.71</td>\n",
       "    </tr>\n",
       "    <tr>\n",
       "      <th>12</th>\n",
       "      <td>Etat</td>\n",
       "      <td>HANDICAP INTERNATIONAL FRANCE</td>\n",
       "      <td>3839415.00</td>\n",
       "      <td>3839415.00</td>\n",
       "    </tr>\n",
       "    <tr>\n",
       "      <th>14</th>\n",
       "      <td>Etat</td>\n",
       "      <td>I S A R A</td>\n",
       "      <td>3809784.00</td>\n",
       "      <td>3809784.00</td>\n",
       "    </tr>\n",
       "  </tbody>\n",
       "</table>\n",
       "</div>"
      ],
      "text/plain": [
       "                                Financeur  \\\n",
       "0                         Commune de Lyon   \n",
       "6                                    Etat   \n",
       "22   Métropole de Lyon (Budget principal)   \n",
       "1                                    Etat   \n",
       "27   Métropole de Lyon (Budget principal)   \n",
       "209                       Commune de Lyon   \n",
       "2                                    Etat   \n",
       "291  Métropole de Lyon (Budget principal)   \n",
       "900                       Commune de Lyon   \n",
       "4                                    Etat   \n",
       "56   Métropole de Lyon (Budget principal)   \n",
       "332                       Commune de Lyon   \n",
       "3                                    Etat   \n",
       "63   Métropole de Lyon (Budget principal)   \n",
       "5    Métropole de Lyon (Budget principal)   \n",
       "7                                    Etat   \n",
       "144  Métropole de Lyon (Budget principal)   \n",
       "8                                    Etat   \n",
       "9    Métropole de Lyon (Budget principal)   \n",
       "10   Métropole de Lyon (Budget principal)   \n",
       "13                                   Etat   \n",
       "149  Métropole de Lyon (Budget principal)   \n",
       "16                                   Etat   \n",
       "117  Métropole de Lyon (Budget principal)   \n",
       "11                                   Etat   \n",
       "19                                   Etat   \n",
       "111  Métropole de Lyon (Budget principal)   \n",
       "523                       Commune de Lyon   \n",
       "12                                   Etat   \n",
       "14                                   Etat   \n",
       "\n",
       "                                          Bénéficiaire    Montant_x  \\\n",
       "0                                        OPERA DE LYON  17573989.72   \n",
       "6                                        OPERA DE LYON   6063476.00   \n",
       "22                                       OPERA DE LYON   2919391.00   \n",
       "1                       FOYER NOTRE DAME DES SANS ABRI  15231489.84   \n",
       "27                      FOYER NOTRE DAME DES SANS ABRI   2262481.80   \n",
       "209                     FOYER NOTRE DAME DES SANS ABRI    289000.00   \n",
       "2                        FONDATION DE L ARMEE DU SALUT  12493087.80   \n",
       "291                      FONDATION DE L ARMEE DU SALUT    200702.49   \n",
       "900                      FONDATION DE L ARMEE DU SALUT     35000.00   \n",
       "4                          ASS HABITAT HUMANISME RHONE   9782896.20   \n",
       "56                         ASS HABITAT HUMANISME RHONE   1139740.00   \n",
       "332                        ASS HABITAT HUMANISME RHONE    168811.00   \n",
       "3                                   ASSOCIATION LE MAS   9922153.96   \n",
       "63                                  ASSOCIATION LE MAS   1044423.69   \n",
       "5    ORGANISME DE FONCIER SOLIDAIRE DE LA METROPOLE...   7925000.00   \n",
       "7                                     FONDATION ARALIS   5702212.73   \n",
       "144                                   FONDATION ARALIS    411420.00   \n",
       "8        ASSOCIATION FEDERATION HANDICAP INTERNATIONAL   5325436.00   \n",
       "9               OFF TOURISME BUREAU CONGRES GRAND LYON   4769385.28   \n",
       "10   COMITE SOCIAL DU PERSONNEL DE LA METROPOLE LYO...   4716136.78   \n",
       "13                       ASSOCIATION DE L HOTEL SOCIAL   3822561.66   \n",
       "149                      ASSOCIATION DE L HOTEL SOCIAL    405640.19   \n",
       "16                                              ACOLEA   3713299.14   \n",
       "117                                             ACOLEA    505528.05   \n",
       "11   ASSOCIATION DES FONDATEURS ET PROTECTEURS DE L...   4203531.93   \n",
       "19                                  AJD MAURICE GOUNON   3313296.80   \n",
       "111                                 AJD MAURICE GOUNON    537121.91   \n",
       "523                                 AJD MAURICE GOUNON     87000.00   \n",
       "12                       HANDICAP INTERNATIONAL FRANCE   3839415.00   \n",
       "14                                           I S A R A   3809784.00   \n",
       "\n",
       "       Montant_y  \n",
       "0    26556856.72  \n",
       "6    26556856.72  \n",
       "22   26556856.72  \n",
       "1    17782971.64  \n",
       "27   17782971.64  \n",
       "209  17782971.64  \n",
       "2    12728790.29  \n",
       "291  12728790.29  \n",
       "900  12728790.29  \n",
       "4    11091447.20  \n",
       "56   11091447.20  \n",
       "332  11091447.20  \n",
       "3    10966577.65  \n",
       "63   10966577.65  \n",
       "5     7925000.00  \n",
       "7     6113632.73  \n",
       "144   6113632.73  \n",
       "8     5325436.00  \n",
       "9     4769385.28  \n",
       "10    4716136.78  \n",
       "13    4228201.85  \n",
       "149   4228201.85  \n",
       "16    4218827.19  \n",
       "117   4218827.19  \n",
       "11    4203531.93  \n",
       "19    3937418.71  \n",
       "111   3937418.71  \n",
       "523   3937418.71  \n",
       "12    3839415.00  \n",
       "14    3809784.00  "
      ]
     },
     "execution_count": 106,
     "metadata": {},
     "output_type": "execute_result"
    }
   ],
   "source": [
    "df_financeur_benef2.head(30)"
   ]
  },
  {
   "cell_type": "code",
   "execution_count": 93,
   "metadata": {},
   "outputs": [
    {
     "data": {
      "application/vnd.plotly.v1+json": {
       "config": {
        "plotlyServerURL": "https://plot.ly"
       },
       "data": [
        {
         "alignmentgroup": "True",
         "hovertemplate": "Montant_x=%{x}<br>Bénéficiaire=%{y}<extra></extra>",
         "legendgroup": "",
         "marker": {
          "color": "#636efa",
          "pattern": {
           "shape": ""
          }
         },
         "name": "",
         "offsetgroup": "",
         "orientation": "h",
         "showlegend": false,
         "textposition": "inside",
         "type": "bar",
         "x": [
          17573989.72,
          6063476,
          2919391,
          15231489.84,
          2262481.8,
          289000,
          12493087.8,
          200702.49,
          35000,
          9782896.2,
          1139740,
          168811,
          9922153.96,
          1044423.69,
          7925000,
          5702212.73,
          411420,
          5325436,
          4769385.279999999,
          4716136.78
         ],
         "xaxis": "x",
         "y": [
          "OPERA DE LYON",
          "OPERA DE LYON",
          "OPERA DE LYON",
          "FOYER NOTRE DAME DES SANS ABRI",
          "FOYER NOTRE DAME DES SANS ABRI",
          "FOYER NOTRE DAME DES SANS ABRI",
          "FONDATION DE L ARMEE DU SALUT",
          "FONDATION DE L ARMEE DU SALUT",
          "FONDATION DE L ARMEE DU SALUT",
          "ASS HABITAT HUMANISME RHONE",
          "ASS HABITAT HUMANISME RHONE",
          "ASS HABITAT HUMANISME RHONE",
          "ASSOCIATION LE MAS",
          "ASSOCIATION LE MAS",
          "ORGANISME DE FONCIER SOLIDAIRE DE LA METROPOLE DE LYON",
          "FONDATION ARALIS",
          "FONDATION ARALIS",
          "ASSOCIATION FEDERATION HANDICAP INTERNATIONAL",
          "OFF TOURISME BUREAU CONGRES GRAND LYON",
          "COMITE SOCIAL DU PERSONNEL DE LA METROPOLE LYONNAISE DE SES COLLECTIVI"
         ],
         "yaxis": "y"
        }
       ],
       "layout": {
        "autosize": true,
        "barmode": "stack",
        "legend": {
         "tracegroupgap": 0
        },
        "showlegend": false,
        "template": {
         "data": {
          "bar": [
           {
            "error_x": {
             "color": "#2a3f5f"
            },
            "error_y": {
             "color": "#2a3f5f"
            },
            "marker": {
             "line": {
              "color": "#E5ECF6",
              "width": 0.5
             },
             "pattern": {
              "fillmode": "overlay",
              "size": 10,
              "solidity": 0.2
             }
            },
            "type": "bar"
           }
          ],
          "barpolar": [
           {
            "marker": {
             "line": {
              "color": "#E5ECF6",
              "width": 0.5
             },
             "pattern": {
              "fillmode": "overlay",
              "size": 10,
              "solidity": 0.2
             }
            },
            "type": "barpolar"
           }
          ],
          "carpet": [
           {
            "aaxis": {
             "endlinecolor": "#2a3f5f",
             "gridcolor": "white",
             "linecolor": "white",
             "minorgridcolor": "white",
             "startlinecolor": "#2a3f5f"
            },
            "baxis": {
             "endlinecolor": "#2a3f5f",
             "gridcolor": "white",
             "linecolor": "white",
             "minorgridcolor": "white",
             "startlinecolor": "#2a3f5f"
            },
            "type": "carpet"
           }
          ],
          "choropleth": [
           {
            "colorbar": {
             "outlinewidth": 0,
             "ticks": ""
            },
            "type": "choropleth"
           }
          ],
          "contour": [
           {
            "colorbar": {
             "outlinewidth": 0,
             "ticks": ""
            },
            "colorscale": [
             [
              0,
              "#0d0887"
             ],
             [
              0.1111111111111111,
              "#46039f"
             ],
             [
              0.2222222222222222,
              "#7201a8"
             ],
             [
              0.3333333333333333,
              "#9c179e"
             ],
             [
              0.4444444444444444,
              "#bd3786"
             ],
             [
              0.5555555555555556,
              "#d8576b"
             ],
             [
              0.6666666666666666,
              "#ed7953"
             ],
             [
              0.7777777777777778,
              "#fb9f3a"
             ],
             [
              0.8888888888888888,
              "#fdca26"
             ],
             [
              1,
              "#f0f921"
             ]
            ],
            "type": "contour"
           }
          ],
          "contourcarpet": [
           {
            "colorbar": {
             "outlinewidth": 0,
             "ticks": ""
            },
            "type": "contourcarpet"
           }
          ],
          "heatmap": [
           {
            "colorbar": {
             "outlinewidth": 0,
             "ticks": ""
            },
            "colorscale": [
             [
              0,
              "#0d0887"
             ],
             [
              0.1111111111111111,
              "#46039f"
             ],
             [
              0.2222222222222222,
              "#7201a8"
             ],
             [
              0.3333333333333333,
              "#9c179e"
             ],
             [
              0.4444444444444444,
              "#bd3786"
             ],
             [
              0.5555555555555556,
              "#d8576b"
             ],
             [
              0.6666666666666666,
              "#ed7953"
             ],
             [
              0.7777777777777778,
              "#fb9f3a"
             ],
             [
              0.8888888888888888,
              "#fdca26"
             ],
             [
              1,
              "#f0f921"
             ]
            ],
            "type": "heatmap"
           }
          ],
          "heatmapgl": [
           {
            "colorbar": {
             "outlinewidth": 0,
             "ticks": ""
            },
            "colorscale": [
             [
              0,
              "#0d0887"
             ],
             [
              0.1111111111111111,
              "#46039f"
             ],
             [
              0.2222222222222222,
              "#7201a8"
             ],
             [
              0.3333333333333333,
              "#9c179e"
             ],
             [
              0.4444444444444444,
              "#bd3786"
             ],
             [
              0.5555555555555556,
              "#d8576b"
             ],
             [
              0.6666666666666666,
              "#ed7953"
             ],
             [
              0.7777777777777778,
              "#fb9f3a"
             ],
             [
              0.8888888888888888,
              "#fdca26"
             ],
             [
              1,
              "#f0f921"
             ]
            ],
            "type": "heatmapgl"
           }
          ],
          "histogram": [
           {
            "marker": {
             "pattern": {
              "fillmode": "overlay",
              "size": 10,
              "solidity": 0.2
             }
            },
            "type": "histogram"
           }
          ],
          "histogram2d": [
           {
            "colorbar": {
             "outlinewidth": 0,
             "ticks": ""
            },
            "colorscale": [
             [
              0,
              "#0d0887"
             ],
             [
              0.1111111111111111,
              "#46039f"
             ],
             [
              0.2222222222222222,
              "#7201a8"
             ],
             [
              0.3333333333333333,
              "#9c179e"
             ],
             [
              0.4444444444444444,
              "#bd3786"
             ],
             [
              0.5555555555555556,
              "#d8576b"
             ],
             [
              0.6666666666666666,
              "#ed7953"
             ],
             [
              0.7777777777777778,
              "#fb9f3a"
             ],
             [
              0.8888888888888888,
              "#fdca26"
             ],
             [
              1,
              "#f0f921"
             ]
            ],
            "type": "histogram2d"
           }
          ],
          "histogram2dcontour": [
           {
            "colorbar": {
             "outlinewidth": 0,
             "ticks": ""
            },
            "colorscale": [
             [
              0,
              "#0d0887"
             ],
             [
              0.1111111111111111,
              "#46039f"
             ],
             [
              0.2222222222222222,
              "#7201a8"
             ],
             [
              0.3333333333333333,
              "#9c179e"
             ],
             [
              0.4444444444444444,
              "#bd3786"
             ],
             [
              0.5555555555555556,
              "#d8576b"
             ],
             [
              0.6666666666666666,
              "#ed7953"
             ],
             [
              0.7777777777777778,
              "#fb9f3a"
             ],
             [
              0.8888888888888888,
              "#fdca26"
             ],
             [
              1,
              "#f0f921"
             ]
            ],
            "type": "histogram2dcontour"
           }
          ],
          "mesh3d": [
           {
            "colorbar": {
             "outlinewidth": 0,
             "ticks": ""
            },
            "type": "mesh3d"
           }
          ],
          "parcoords": [
           {
            "line": {
             "colorbar": {
              "outlinewidth": 0,
              "ticks": ""
             }
            },
            "type": "parcoords"
           }
          ],
          "pie": [
           {
            "automargin": true,
            "type": "pie"
           }
          ],
          "scatter": [
           {
            "fillpattern": {
             "fillmode": "overlay",
             "size": 10,
             "solidity": 0.2
            },
            "type": "scatter"
           }
          ],
          "scatter3d": [
           {
            "line": {
             "colorbar": {
              "outlinewidth": 0,
              "ticks": ""
             }
            },
            "marker": {
             "colorbar": {
              "outlinewidth": 0,
              "ticks": ""
             }
            },
            "type": "scatter3d"
           }
          ],
          "scattercarpet": [
           {
            "marker": {
             "colorbar": {
              "outlinewidth": 0,
              "ticks": ""
             }
            },
            "type": "scattercarpet"
           }
          ],
          "scattergeo": [
           {
            "marker": {
             "colorbar": {
              "outlinewidth": 0,
              "ticks": ""
             }
            },
            "type": "scattergeo"
           }
          ],
          "scattergl": [
           {
            "marker": {
             "colorbar": {
              "outlinewidth": 0,
              "ticks": ""
             }
            },
            "type": "scattergl"
           }
          ],
          "scattermapbox": [
           {
            "marker": {
             "colorbar": {
              "outlinewidth": 0,
              "ticks": ""
             }
            },
            "type": "scattermapbox"
           }
          ],
          "scatterpolar": [
           {
            "marker": {
             "colorbar": {
              "outlinewidth": 0,
              "ticks": ""
             }
            },
            "type": "scatterpolar"
           }
          ],
          "scatterpolargl": [
           {
            "marker": {
             "colorbar": {
              "outlinewidth": 0,
              "ticks": ""
             }
            },
            "type": "scatterpolargl"
           }
          ],
          "scatterternary": [
           {
            "marker": {
             "colorbar": {
              "outlinewidth": 0,
              "ticks": ""
             }
            },
            "type": "scatterternary"
           }
          ],
          "surface": [
           {
            "colorbar": {
             "outlinewidth": 0,
             "ticks": ""
            },
            "colorscale": [
             [
              0,
              "#0d0887"
             ],
             [
              0.1111111111111111,
              "#46039f"
             ],
             [
              0.2222222222222222,
              "#7201a8"
             ],
             [
              0.3333333333333333,
              "#9c179e"
             ],
             [
              0.4444444444444444,
              "#bd3786"
             ],
             [
              0.5555555555555556,
              "#d8576b"
             ],
             [
              0.6666666666666666,
              "#ed7953"
             ],
             [
              0.7777777777777778,
              "#fb9f3a"
             ],
             [
              0.8888888888888888,
              "#fdca26"
             ],
             [
              1,
              "#f0f921"
             ]
            ],
            "type": "surface"
           }
          ],
          "table": [
           {
            "cells": {
             "fill": {
              "color": "#EBF0F8"
             },
             "line": {
              "color": "white"
             }
            },
            "header": {
             "fill": {
              "color": "#C8D4E3"
             },
             "line": {
              "color": "white"
             }
            },
            "type": "table"
           }
          ]
         },
         "layout": {
          "annotationdefaults": {
           "arrowcolor": "#2a3f5f",
           "arrowhead": 0,
           "arrowwidth": 1
          },
          "autotypenumbers": "strict",
          "coloraxis": {
           "colorbar": {
            "outlinewidth": 0,
            "ticks": ""
           }
          },
          "colorscale": {
           "diverging": [
            [
             0,
             "#8e0152"
            ],
            [
             0.1,
             "#c51b7d"
            ],
            [
             0.2,
             "#de77ae"
            ],
            [
             0.3,
             "#f1b6da"
            ],
            [
             0.4,
             "#fde0ef"
            ],
            [
             0.5,
             "#f7f7f7"
            ],
            [
             0.6,
             "#e6f5d0"
            ],
            [
             0.7,
             "#b8e186"
            ],
            [
             0.8,
             "#7fbc41"
            ],
            [
             0.9,
             "#4d9221"
            ],
            [
             1,
             "#276419"
            ]
           ],
           "sequential": [
            [
             0,
             "#0d0887"
            ],
            [
             0.1111111111111111,
             "#46039f"
            ],
            [
             0.2222222222222222,
             "#7201a8"
            ],
            [
             0.3333333333333333,
             "#9c179e"
            ],
            [
             0.4444444444444444,
             "#bd3786"
            ],
            [
             0.5555555555555556,
             "#d8576b"
            ],
            [
             0.6666666666666666,
             "#ed7953"
            ],
            [
             0.7777777777777778,
             "#fb9f3a"
            ],
            [
             0.8888888888888888,
             "#fdca26"
            ],
            [
             1,
             "#f0f921"
            ]
           ],
           "sequentialminus": [
            [
             0,
             "#0d0887"
            ],
            [
             0.1111111111111111,
             "#46039f"
            ],
            [
             0.2222222222222222,
             "#7201a8"
            ],
            [
             0.3333333333333333,
             "#9c179e"
            ],
            [
             0.4444444444444444,
             "#bd3786"
            ],
            [
             0.5555555555555556,
             "#d8576b"
            ],
            [
             0.6666666666666666,
             "#ed7953"
            ],
            [
             0.7777777777777778,
             "#fb9f3a"
            ],
            [
             0.8888888888888888,
             "#fdca26"
            ],
            [
             1,
             "#f0f921"
            ]
           ]
          },
          "colorway": [
           "#636efa",
           "#EF553B",
           "#00cc96",
           "#ab63fa",
           "#FFA15A",
           "#19d3f3",
           "#FF6692",
           "#B6E880",
           "#FF97FF",
           "#FECB52"
          ],
          "font": {
           "color": "#2a3f5f"
          },
          "geo": {
           "bgcolor": "white",
           "lakecolor": "white",
           "landcolor": "#E5ECF6",
           "showlakes": true,
           "showland": true,
           "subunitcolor": "white"
          },
          "hoverlabel": {
           "align": "left"
          },
          "hovermode": "closest",
          "mapbox": {
           "style": "light"
          },
          "paper_bgcolor": "white",
          "plot_bgcolor": "#E5ECF6",
          "polar": {
           "angularaxis": {
            "gridcolor": "white",
            "linecolor": "white",
            "ticks": ""
           },
           "bgcolor": "#E5ECF6",
           "radialaxis": {
            "gridcolor": "white",
            "linecolor": "white",
            "ticks": ""
           }
          },
          "scene": {
           "xaxis": {
            "backgroundcolor": "#E5ECF6",
            "gridcolor": "white",
            "gridwidth": 2,
            "linecolor": "white",
            "showbackground": true,
            "ticks": "",
            "zerolinecolor": "white"
           },
           "yaxis": {
            "backgroundcolor": "#E5ECF6",
            "gridcolor": "white",
            "gridwidth": 2,
            "linecolor": "white",
            "showbackground": true,
            "ticks": "",
            "zerolinecolor": "white"
           },
           "zaxis": {
            "backgroundcolor": "#E5ECF6",
            "gridcolor": "white",
            "gridwidth": 2,
            "linecolor": "white",
            "showbackground": true,
            "ticks": "",
            "zerolinecolor": "white"
           }
          },
          "shapedefaults": {
           "line": {
            "color": "#2a3f5f"
           }
          },
          "ternary": {
           "aaxis": {
            "gridcolor": "white",
            "linecolor": "white",
            "ticks": ""
           },
           "baxis": {
            "gridcolor": "white",
            "linecolor": "white",
            "ticks": ""
           },
           "bgcolor": "#E5ECF6",
           "caxis": {
            "gridcolor": "white",
            "linecolor": "white",
            "ticks": ""
           }
          },
          "title": {
           "x": 0.05
          },
          "xaxis": {
           "automargin": true,
           "gridcolor": "white",
           "linecolor": "white",
           "ticks": "",
           "title": {
            "standoff": 15
           },
           "zerolinecolor": "white",
           "zerolinewidth": 2
          },
          "yaxis": {
           "automargin": true,
           "gridcolor": "white",
           "linecolor": "white",
           "ticks": "",
           "title": {
            "standoff": 15
           },
           "zerolinecolor": "white",
           "zerolinewidth": 2
          }
         }
        },
        "title": {
         "text": "Top 10 des struvtures subventionnées en 2022"
        },
        "uniformtext": {
         "minsize": 8,
         "mode": "hide"
        },
        "xaxis": {
         "anchor": "y",
         "domain": [
          0,
          1
         ],
         "title": {
          "text": "Montant des subventions accordées en 2022"
         }
        },
        "yaxis": {
         "anchor": "x",
         "autorange": "reversed",
         "domain": [
          0,
          1
         ],
         "title": {
          "text": "Bénéficiaire"
         }
        }
       }
      }
     },
     "metadata": {},
     "output_type": "display_data"
    }
   ],
   "source": [
    "#Top structures subventionnées\n",
    "fig = px.bar(df_financeur_benef2.head(20), x=\"Montant_x\", y=\"Bénéficiaire\",\n",
    "        barmode = 'stack',\n",
    "        title = \"Top 10 des structures subventionnées en 2022\"\n",
    ")\n",
    "fig.update_traces(textposition=\"inside\")\n",
    "fig.update_layout(\n",
    "    autosize=True,\n",
    "    uniformtext_minsize=8,\n",
    "    uniformtext_mode=\"hide\",\n",
    "    showlegend=False,\n",
    "    xaxis_title=\"Montant des subventions accordées en 2022\",\n",
    "    yaxis=dict(autorange=\"reversed\")\n",
    ")\n",
    "fig.show()"
   ]
  }
 ],
 "metadata": {
  "kernelspec": {
   "display_name": "base",
   "language": "python",
   "name": "python3"
  },
  "language_info": {
   "codemirror_mode": {
    "name": "ipython",
    "version": 3
   },
   "file_extension": ".py",
   "mimetype": "text/x-python",
   "name": "python",
   "nbconvert_exporter": "python",
   "pygments_lexer": "ipython3",
   "version": "3.10.9"
  }
 },
 "nbformat": 4,
 "nbformat_minor": 2
}
